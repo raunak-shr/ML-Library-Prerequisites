{
 "cells": [
  {
   "cell_type": "markdown",
   "id": "b0efb80a-b16a-4f09-8df0-372852b9b3a6",
   "metadata": {},
   "source": [
    "# <p style=\"text-align:center;\">Tensorflow - V</p>\n",
    "---\n",
    "*<p style=\"text-align:right;\">Reference: Tensorflow Official Docs</p>*\n"
   ]
  },
  {
   "cell_type": "code",
   "execution_count": 1,
   "id": "22f7f5b4-6a4d-4df6-bae8-e33c84a2f7dd",
   "metadata": {},
   "outputs": [],
   "source": [
    "import tensorflow as tf\n",
    "import numpy as np\n",
    "import timeit\n",
    "from datetime import datetime"
   ]
  },
  {
   "cell_type": "markdown",
   "id": "88916862-36e4-473f-99d2-f9692e0f1fbf",
   "metadata": {},
   "source": [
    "# Introduction to Graphs and `tf.function`\n",
    "\n",
    "## Overview\n",
    "This guide goes beneath the surface of TensorFlow and Keras to demonstrate how TensorFlow works. If you instead want to immediately get started with Keras, check out the collection of Keras guides.\n",
    "\n",
    "In this guide, you'll learn how TensorFlow allows you to make simple changes to your code to get graphs, how graphs are stored and represented, and how you can use them to accelerate your models.\n",
    "\n",
    "**This is a big-picture overview that covers how `tf.function` allows you to switch from eager execution to graph execution**. For a more complete specification of `tf.function`, go to the <a href = \"https://www.tensorflow.org/guide/function\">Better performance with `tf.function` guide.</a>"
   ]
  },
  {
   "cell_type": "markdown",
   "id": "9891fdd3-83d7-458f-b0ba-b2ce3c77d6dc",
   "metadata": {},
   "source": [
    "## 0. What are Graphs?\n",
    "\n",
    "In the previous three guides, you ran TensorFlow **eagerly**. This means TensorFlow operations are executed by Python, operation by operation, and returning results back to Python.\n",
    "\n",
    "While eager execution has several unique advantages, graph execution enables portability outside Python and tends to offer better performance. Graph execution means that tensor computations are executed as a TensorFlow graph, sometimes referred to as a tf.Graph or simply a \"graph.\"\n",
    "\n",
    "Graphs are data structures that contain a set of `tf.Operation` objects, which represent units of computation; and `tf.Tensor` objects, which represent the units of data that flow between operations. They are defined in a `tf.Graph` context. Since these graphs are data structures, they can be saved, run, and restored all without the original Python code.\n",
    "\n",
    "This is what a TensorFlow graph representing a two-layer neural network looks like when visualized in TensorBoard:\n",
    "![img](https://github.com/tensorflow/docs/blob/master/site/en/guide/images/intro_to_graphs/two-layer-network.png?raw=1)"
   ]
  },
  {
   "cell_type": "markdown",
   "id": "d90f0bea-fad6-4da6-8fe9-9fd187d033f1",
   "metadata": {},
   "source": [
    "### The benefits of graphs\n",
    "With a graph, you have a great deal of flexibility. You can use your TensorFlow graph in environments that don't have a Python interpreter, like mobile applications, embedded devices, and backend servers. TensorFlow uses graphs as the format for saved models when it exports them from Python.\n",
    "\n",
    "Graphs are also easily optimized, allowing the compiler to do transformations like:\n",
    "\n",
    "* Statically infer the value of tensors by folding constant nodes in your computation (\"constant folding\").\n",
    "\n",
    "* Separate sub-parts of a computation that are independent and split them between threads or devices.\n",
    "\n",
    "* Simplify arithmetic operations by eliminating common subexpressions.\n",
    "\n",
    "There is an entire optimization system, Grappler, to perform this and other speedups.\n",
    "\n",
    "In short, graphs are extremely useful and let your TensorFlow run **fast**, run **in parallel**, and run efficiently **on multiple devices.**\n",
    "\n",
    "However, you still want to define your machine learning models (or other computations) in Python for convenience, and then automatically construct graphs when you need them."
   ]
  },
  {
   "cell_type": "markdown",
   "id": "6a5afa59-1662-4d31-bbc2-d6641628f2ff",
   "metadata": {},
   "source": [
    "## 1. Taking advantage of graphs\n",
    "\n",
    "You create and run a graph in TensorFlow by using `tf.function`, either as a direct call or as a decorator. `tf.function` takes a regular function as input and returns a `Function`. **A `Function` is a Python callable that builds TensorFlow graphs from the Python function. You use a Function in the same way as its Python equivalent.**"
   ]
  },
  {
   "cell_type": "code",
   "execution_count": 2,
   "id": "2458c5b8-90b1-4857-a459-d5d0bfad4036",
   "metadata": {},
   "outputs": [],
   "source": [
    "#define a regular function\n",
    "def a_regular_function(x,y,b):\n",
    "    x = tf.matmul(x,y)\n",
    "    x = x + b\n",
    "    return x\n",
    "\n",
    "a_function_that_uses_a_graph = tf.function(a_regular_function)\n",
    "\n",
    "x1 = tf.constant([[1.0, 2.0]])\n",
    "y1 = tf.constant([[2.0], [3.0]])\n",
    "b1 = tf.constant(4.0)\n",
    "\n",
    "orig_value = a_regular_function(x1, y1, b1).numpy()\n",
    "tf_function_value = a_function_that_uses_a_graph(x1,y1,b1).numpy()\n",
    "assert(orig_value == tf_function_value)"
   ]
  },
  {
   "cell_type": "markdown",
   "id": "784caa85-d94d-470c-b0ce-4e214f4c430a",
   "metadata": {},
   "source": [
    "On the outside, a `Function` looks like a regular function you write using TensorFlow operations. Underneath, however, it is *very different*. A `Function` **encapsulates several `tf.Graphs` behind one API** (learn more in the Polymorphism section). That is how a Function is able to give you the benefits of graph execution, like speed and deployability (refer to The benefits of graphs above).\n",
    "\n",
    "`tf.function` applies to a function *and all other functions it calls:*"
   ]
  },
  {
   "cell_type": "code",
   "execution_count": 3,
   "id": "a796db0e-20fd-4857-8ec1-6e8da0725222",
   "metadata": {},
   "outputs": [
    {
     "data": {
      "text/plain": [
       "array([[12.]], dtype=float32)"
      ]
     },
     "execution_count": 3,
     "metadata": {},
     "output_type": "execute_result"
    }
   ],
   "source": [
    "def inner_function(x,y,b):\n",
    "    x = tf.matmul(x,y)\n",
    "    x = x+b\n",
    "    return x\n",
    "\n",
    "#Use the decorator to make 'outer_function' a 'Function'\n",
    "@tf.function\n",
    "def outer_function(x):\n",
    "    y = tf.constant([[2.0],[3.0]])\n",
    "    b = tf.constant(4.0)\n",
    "    \n",
    "    return inner_function(x,y,b)\n",
    "\n",
    "# Note that the callable will create a graph that\n",
    "# includes `inner_function` as well as `outer_function`.\n",
    "\n",
    "outer_function(tf.constant([[1.0,2.0]])).numpy()"
   ]
  },
  {
   "cell_type": "markdown",
   "id": "adc290cd-559c-4eb3-bafb-056d3ba20729",
   "metadata": {},
   "source": [
    "### Converting Python functions to graphs\n",
    "Any function you write with TensorFlow will contain a mixture of built-in TF operations and Python logic, such as `if-then` clauses, loops, `break`, `return`, `continue`, and more. While TensorFlow operations are easily captured by a `tf.Graph`, Python-specific logic needs to undergo an extra step in order to become part of the graph. `tf.function` uses a library called AutoGraph (`tf.autograph`) to convert Python code into graph-generating code."
   ]
  },
  {
   "cell_type": "code",
   "execution_count": 4,
   "id": "005250e9-0a1c-4ecc-b7b9-1dc4f8653f70",
   "metadata": {},
   "outputs": [
    {
     "name": "stdout",
     "output_type": "stream",
     "text": [
      "First branch, with graph: 1\n",
      "Second branch, with graph: 0\n"
     ]
    }
   ],
   "source": [
    "def simple_relu(x):\n",
    "    if tf.greater(x, 0):\n",
    "        return x\n",
    "    else:\n",
    "        return 0\n",
    "\n",
    "# `tf_simple_relu` is a TensorFlow `Function` that wraps `simple_relu`.\n",
    "tf_simple_relu = tf.function(simple_relu)\n",
    "\n",
    "print(\"First branch, with graph:\", tf_simple_relu(tf.constant(1)).numpy())\n",
    "print(\"Second branch, with graph:\", tf_simple_relu(tf.constant(-1)).numpy())"
   ]
  },
  {
   "cell_type": "markdown",
   "id": "361d1469-9d30-4a8a-9ea7-bfeac46b41ba",
   "metadata": {},
   "source": [
    "## 2. Polymorphism: one `Function`, many Graphs\n",
    "A `tf.Graph` is specialized to a specific type of inputs (for example, tensors with a specific `dtype` or objects with the same `id()`).\n",
    "\n",
    "Each time you invoke a `Function` with a set of arguments that can't be handled by any of its existing graphs (such as arguments with new `dtypes` or incompatible shapes), `Function` creates a new `tf.Graph` specialized to those new arguments. The type specification of a `tf.Graph`'s input is known as its **input signature** or just a **signature**. \n",
    "\n",
    "The `Function` stores the `tf.Graph` corresponding that signature in a `ConcreteFunction`. A `ConcreteFunction` is a wrapper around a `tf.Graph`"
   ]
  },
  {
   "cell_type": "code",
   "execution_count": 5,
   "id": "e99d06b1-cd08-4730-a6c2-493a1b878941",
   "metadata": {},
   "outputs": [
    {
     "name": "stdout",
     "output_type": "stream",
     "text": [
      "tf.Tensor(5.5, shape=(), dtype=float32)\n",
      "tf.Tensor([1. 0.], shape=(2,), dtype=float32)\n",
      "tf.Tensor([3. 0.], shape=(2,), dtype=float32)\n"
     ]
    }
   ],
   "source": [
    "@tf.function\n",
    "def my_relu(x):\n",
    "    return tf.maximum(0.,x)\n",
    "\n",
    "print(my_relu(tf.constant(5.5)))\n",
    "print(my_relu([1,-1]))\n",
    "print(my_relu(tf.constant([3.,-3.])))"
   ]
  },
  {
   "cell_type": "markdown",
   "id": "87148f50-365e-4a87-8e60-a2cdd006e748",
   "metadata": {},
   "source": [
    "If the Function has already been called with that signature, Function does not create a new `tf.Graph`."
   ]
  },
  {
   "cell_type": "code",
   "execution_count": 6,
   "id": "d0b4b140-1a6a-4bce-b1a4-d445b3962639",
   "metadata": {},
   "outputs": [
    {
     "name": "stdout",
     "output_type": "stream",
     "text": [
      "tf.Tensor(0.0, shape=(), dtype=float32)\n",
      "tf.Tensor([0. 1.], shape=(2,), dtype=float32)\n"
     ]
    }
   ],
   "source": [
    "# These two calls do *not* create new graphs.\n",
    "print(my_relu(tf.constant(-2.5))) # Signature matches `tf.constant(5.5)`.\n",
    "print(my_relu(tf.constant([-1., 1.]))) # Signature matches `tf.constant([3., -3.])`."
   ]
  },
  {
   "cell_type": "markdown",
   "id": "8e3d6582-d0c9-4e10-8d28-79d3633b84e7",
   "metadata": {},
   "source": [
    "Because it's backed by multiple graphs, a `Function` is polymorphic. That enables it to support more input types than a single `tf.Graph` could represent, and to optimize each `tf.Graph` for better performance."
   ]
  },
  {
   "cell_type": "code",
   "execution_count": 7,
   "id": "60ac3fe7-b45b-4ec8-ae5f-2c4fba135794",
   "metadata": {},
   "outputs": [
    {
     "name": "stdout",
     "output_type": "stream",
     "text": [
      "my_relu(x)\n",
      "  Args:\n",
      "    x: float32 Tensor, shape=()\n",
      "  Returns:\n",
      "    float32 Tensor, shape=()\n",
      "\n",
      "my_relu(x=[1, -1])\n",
      "  Returns:\n",
      "    float32 Tensor, shape=(2,)\n",
      "\n",
      "my_relu(x)\n",
      "  Args:\n",
      "    x: float32 Tensor, shape=(2,)\n",
      "  Returns:\n",
      "    float32 Tensor, shape=(2,)\n"
     ]
    }
   ],
   "source": [
    "print(my_relu.pretty_printed_concrete_signatures())"
   ]
  },
  {
   "cell_type": "markdown",
   "id": "396bba1e-7bf7-44e0-9356-ce5cbd9a8be8",
   "metadata": {},
   "source": [
    "## 3. Using `tf.function`\n",
    "\n",
    "So far, you've learned how to convert a Python function into a graph simply by using `tf.function` as a decorator or wrapper. But in practice, getting tf.function to work correctly can be tricky! In the following sections, you'll learn how you can make your code work as expected with `tf.function`."
   ]
  },
  {
   "cell_type": "markdown",
   "id": "a2383319-61a1-487f-b2b6-7260a771adbd",
   "metadata": {},
   "source": [
    "### Graph Execution vs. Eager Execution\n",
    "\n",
    "The code in a `Function` can be executed both eagerly and as a graph. By default, `Function` executes its code as a graph:"
   ]
  },
  {
   "cell_type": "code",
   "execution_count": 8,
   "id": "45fb123f-97f3-4d0c-9249-5bd142d42d70",
   "metadata": {},
   "outputs": [],
   "source": [
    "@tf.function\n",
    "def get_MSE(y_true, y_pred):\n",
    "    sq_diff = tf.pow(y_true-y_pred,2)\n",
    "    return tf.reduce_mean(sq_diff)"
   ]
  },
  {
   "cell_type": "code",
   "execution_count": 9,
   "id": "aa0826d5-c23f-486d-87a8-5ada069e8f5c",
   "metadata": {},
   "outputs": [
    {
     "name": "stdout",
     "output_type": "stream",
     "text": [
      "tf.Tensor([4 2 0 1 3], shape=(5,), dtype=int32)\n",
      "tf.Tensor([8 5 3 0 3], shape=(5,), dtype=int32)\n"
     ]
    }
   ],
   "source": [
    "y_true = tf.random.uniform([5], maxval = 10, dtype = 'int32')\n",
    "y_pred = tf.random.uniform([5], maxval = 10, dtype = 'int32')\n",
    "print(y_true)\n",
    "print(y_pred)"
   ]
  },
  {
   "cell_type": "code",
   "execution_count": 10,
   "id": "dabb00c7-bfbe-48e7-8660-7e7307e63563",
   "metadata": {},
   "outputs": [
    {
     "data": {
      "text/plain": [
       "7"
      ]
     },
     "execution_count": 10,
     "metadata": {},
     "output_type": "execute_result"
    }
   ],
   "source": [
    "get_MSE(y_true,y_pred).numpy()"
   ]
  },
  {
   "cell_type": "markdown",
   "id": "47bd3042-9e12-4555-a1cb-43b3fcc3fcc8",
   "metadata": {},
   "source": [
    "To verify that your `Function`'s graph is doing the same computation as its equivalent Python function, you can make it execute eagerly with `tf.config.run_functions_eagerly(True)`. This is a switch that turns off Function's ability to create and run graphs, instead of executing the code normally."
   ]
  },
  {
   "cell_type": "code",
   "execution_count": 11,
   "id": "47939aaa-d2b7-4def-9ae8-f9ea7c5091b2",
   "metadata": {},
   "outputs": [],
   "source": [
    "tf.config.run_functions_eagerly(True)"
   ]
  },
  {
   "cell_type": "code",
   "execution_count": 12,
   "id": "e19de826-da1f-448d-ae1e-fa10678f78e0",
   "metadata": {},
   "outputs": [
    {
     "data": {
      "text/plain": [
       "7"
      ]
     },
     "execution_count": 12,
     "metadata": {},
     "output_type": "execute_result"
    }
   ],
   "source": [
    "get_MSE(y_true, y_pred).numpy()"
   ]
  },
  {
   "cell_type": "code",
   "execution_count": 13,
   "id": "2ac39cc8-419e-4dfe-87a6-f48c8f7c15ee",
   "metadata": {},
   "outputs": [],
   "source": [
    "# Don't forget to set it back when you are done.\n",
    "tf.config.run_functions_eagerly(False)"
   ]
  },
  {
   "cell_type": "markdown",
   "id": "04126b51-f9e8-4bb6-8f68-ced1c79a24b7",
   "metadata": {},
   "source": [
    "However, `Function` can behave differently under graph and eager execution. The Python `print` function is one example of how these two modes differ. Let's check out what happens when you insert a print statement to your function and call it repeatedly."
   ]
  },
  {
   "cell_type": "code",
   "execution_count": 14,
   "id": "dbf38d23-5374-4b39-b952-80ef01420164",
   "metadata": {},
   "outputs": [],
   "source": [
    "@tf.function\n",
    "def get_MSE(y_true, y_pred):\n",
    "    print(\"Calculating MSE!\")\n",
    "    sq_diff = tf.pow(y_true - y_pred, 2)\n",
    "    return tf.reduce_mean(sq_diff)"
   ]
  },
  {
   "cell_type": "code",
   "execution_count": 15,
   "id": "b00c01ce-4b8a-4413-80d8-961a6fbf51d5",
   "metadata": {},
   "outputs": [
    {
     "name": "stdout",
     "output_type": "stream",
     "text": [
      "Calculating MSE!\n"
     ]
    }
   ],
   "source": [
    "error = get_MSE(y_true, y_pred)\n",
    "error = get_MSE(y_true, y_pred)\n",
    "error = get_MSE(y_true, y_pred)"
   ]
  },
  {
   "cell_type": "markdown",
   "id": "5b0c12ed-7372-4069-9cab-69d4a589309e",
   "metadata": {},
   "source": [
    "Is the output surprising? `get_MSE` only printed once even though it was called three times.\n",
    "\n",
    "To explain, the `print` statement is executed when Function runs the original code in order to create the graph in a process known as \"tracing\" (refer to the Tracing section of the `tf.function` guide.) **Tracing captures the TensorFlow operations into a graph, and print is not captured in the graph.** That graph is then executed for all three calls **without ever running the Python code again.**"
   ]
  },
  {
   "cell_type": "code",
   "execution_count": 16,
   "id": "40418c24-7efa-41eb-8b5a-a57ca23cea7b",
   "metadata": {},
   "outputs": [],
   "source": [
    "# Now, globally set everything to run eagerly to force eager execution.\n",
    "tf.config.run_functions_eagerly(True)"
   ]
  },
  {
   "cell_type": "code",
   "execution_count": 17,
   "id": "0545e565-ea75-43d3-b6ae-450cc95f5518",
   "metadata": {},
   "outputs": [
    {
     "name": "stdout",
     "output_type": "stream",
     "text": [
      "Calculating MSE!\n",
      "Calculating MSE!\n",
      "Calculating MSE!\n"
     ]
    }
   ],
   "source": [
    "# Observe what is printed below.\n",
    "error = get_MSE(y_true, y_pred)\n",
    "error = get_MSE(y_true, y_pred)\n",
    "error = get_MSE(y_true, y_pred)"
   ]
  },
  {
   "cell_type": "code",
   "execution_count": 18,
   "id": "c94030cb-e501-4506-a6d7-93f3af78fa6a",
   "metadata": {},
   "outputs": [],
   "source": [
    "tf.config.run_functions_eagerly(False)"
   ]
  },
  {
   "cell_type": "markdown",
   "id": "caaff06b-e94d-49ee-930d-b1f36abf4f51",
   "metadata": {},
   "source": [
    "`print` is a *Python side effect*, and there are other differences that you should be aware of when converting a function into a Function.\n",
    "\n",
    ">Note: If you would like to print values in both eager and graph execution, use `tf.print` instead."
   ]
  },
  {
   "cell_type": "markdown",
   "id": "545a5fc9-b13e-477a-8205-e0a3dd0bc3da",
   "metadata": {},
   "source": [
    "### Non-strict execution\n",
    "\n",
    "Graph execution only executes the operations necessary to produce the observable effects, which includes:\n",
    "\n",
    "* The return value of the function\n",
    "\n",
    "* Documented well-known side-effects such as:\n",
    "\n",
    "  * Input/output operations, like `tf.print`\n",
    "  \n",
    "  * Debugging operations, such as the assert functions in `tf.debugging`\n",
    "  \n",
    "  * Mutations of `tf.Variable`\n",
    "\n",
    "This behavior is usually known as \"Non-strict execution\", and differs from eager execution, which steps through all of the program operations, needed or not.\n",
    "\n",
    "In particular, runtime error checking does not count as an observable effect. If an operation is skipped because it is unnecessary, it cannot raise any runtime errors.\n",
    "\n",
    "In the following example, the \"unnecessary\" operation `tf.gather` is skipped during graph execution, so the runtime error `InvalidArgumentError` is not raised as it would be in eager execution. Do not rely on an error being raised while executing a graph."
   ]
  },
  {
   "cell_type": "code",
   "execution_count": 19,
   "id": "9058602a-1289-4ed4-b0cc-d05d92e44100",
   "metadata": {},
   "outputs": [
    {
     "name": "stdout",
     "output_type": "stream",
     "text": [
      "InvalidArgumentError: {{function_node __wrapped__GatherV2_device_/job:localhost/replica:0/task:0/device:CPU:0}} indices[0] = 1 is not in [0, 1) [Op:GatherV2]\n"
     ]
    }
   ],
   "source": [
    "def unused_return_eager(x):\n",
    "  # Get index 1 will fail when `len(x) == 1`\n",
    "      tf.gather(x, [1]) # unused \n",
    "      return x\n",
    "\n",
    "try:\n",
    "    print(unused_return_eager(tf.constant([0.0])))\n",
    "except tf.errors.InvalidArgumentError as e:\n",
    "    # All operations are run during eager execution so an error is raised.\n",
    "    print(f'{type(e).__name__}: {e}')"
   ]
  },
  {
   "cell_type": "markdown",
   "id": "e7971b83-2b74-48da-99c0-393c670096e4",
   "metadata": {},
   "source": [
    "This is behaving wrongly somehow. There should be no error raised since the graph execution skips the `tf.gather` function"
   ]
  },
  {
   "cell_type": "code",
   "execution_count": 20,
   "id": "50f713bb-e48d-4b91-a4fd-95882f74538d",
   "metadata": {},
   "outputs": [
    {
     "name": "stdout",
     "output_type": "stream",
     "text": [
      "tf.Tensor([0.], shape=(1,), dtype=float32)\n"
     ]
    }
   ],
   "source": [
    "@tf.function\n",
    "def unused_return_graph(x):\n",
    "    tf.gather(x, [1]) # unused\n",
    "    return x\n",
    "\n",
    "# Only needed operations are run during graph execution. The error is not raised.\n",
    "print(unused_return_graph(tf.constant([0.0])))"
   ]
  },
  {
   "cell_type": "markdown",
   "id": "98216b3a-9af4-40b2-ac49-5540267436bf",
   "metadata": {},
   "source": [
    "### `tf.function` Best Practices\n",
    "\n",
    "It may take some time to get used to the behavior of `Function`. To get started quickly, first-time users should play around with decorating toy functions with `@tf.function` to get experience with going from eager to graph execution.\n",
    "\n",
    "*Designing for* `tf.function` may be your best bet for writing graph-compatible TensorFlow programs. Here are some tips:\n",
    "\n",
    "* Toggle between eager and graph execution early and often with `tf.config.run_functions_eagerly` to pinpoint if/ when the two modes diverge.\n",
    "\n",
    "* Create `tf.Variables` outside the Python function and modify them on the inside. The same goes for objects that use `tf.Variable`, like `tf.keras.layers`, `tf.keras.Models` and `tf.keras.optimizers`.\n",
    "\n",
    "* Avoid writing functions that depend on outer Python variables, excluding `tf.Variables` and Keras objects. Learn more in Depending on Python global and free variables of the `tf.function` guide.\n",
    "\n",
    "* Prefer to write functions which take tensors and other TensorFlow types as input. You can pass in other object types but be careful! Learn more in Depending on Python objects of the `tf.function` guide.\n",
    "\n",
    "* Include as much computation as possible under a `tf.function` to maximize the performance gain. For example, decorate a whole training step or the entire training loop."
   ]
  },
  {
   "cell_type": "markdown",
   "id": "1b8c854d-6955-4b12-905c-01fe69e0d6af",
   "metadata": {},
   "source": [
    "## 4. Seeing the speed-up\n",
    "\n",
    "`tf.function` usually improves the performance of your code, but the amount of speed-up depends on the kind of computation you run. Small computations can be dominated by the overhead of calling a graph. You can measure the difference in performance like so:"
   ]
  },
  {
   "cell_type": "code",
   "execution_count": 21,
   "id": "585ca762-b0b0-481f-965a-0cfe2516cd0b",
   "metadata": {},
   "outputs": [
    {
     "name": "stdout",
     "output_type": "stream",
     "text": [
      "Eager Execution: 4.493903400000001 seconds\n"
     ]
    }
   ],
   "source": [
    "x = tf.random.uniform(shape = [10,10], minval = -1, maxval = 2, dtype = tf.dtypes.int32)\n",
    "\n",
    "def power(x,y):\n",
    "    result = tf.eye(10, dtype = tf.dtypes.int32)\n",
    "    for _ in range(y):\n",
    "        result = tf.matmul(x,result)\n",
    "    return result\n",
    "\n",
    "print(\"Eager Execution:\", timeit.timeit(lambda: power(x,100), number=1000),'seconds')"
   ]
  },
  {
   "cell_type": "code",
   "execution_count": 22,
   "id": "6c871a11-e6da-4b40-ab0f-8c4225ee70f7",
   "metadata": {},
   "outputs": [
    {
     "name": "stdout",
     "output_type": "stream",
     "text": [
      "Graph execution: 0.9008737 seconds\n"
     ]
    }
   ],
   "source": [
    "power_as_graph = tf.function(power)\n",
    "print(\"Graph execution:\", timeit.timeit(lambda: power_as_graph(x, 100), number=1000), \"seconds\")"
   ]
  },
  {
   "cell_type": "markdown",
   "id": "81332940-d301-4ece-a18f-19d423bbe601",
   "metadata": {},
   "source": [
    "> Note: You can also try `tf.function(jit_compile=True)` for a more significant performance boost, especially if your code is heavy on TensorFlow control flow and uses many small tensors."
   ]
  },
  {
   "cell_type": "markdown",
   "id": "99021364-867a-4693-b517-d82bdefb1417",
   "metadata": {},
   "source": [
    "### Performance and trade-offs\n",
    "\n",
    "Graphs can speed up your code, but the process of creating them has some overhead. For some functions, the creation of the graph takes more time than the execution of the graph. **This investment is usually quickly paid back with the performance boost of subsequent executions, but it's important to be aware that the first few steps of any large model training can be slower due to tracing.**\n",
    "\n",
    "No matter how large your model, you want to avoid tracing frequently. The `tf.function` guide discusses how to set input specifications and use tensor arguments to avoid retracing in the Controlling retracing section. If you find you are getting unusually poor performance, it's a good idea to check if you are retracing accidentally.\n",
    "\n",
    "## 5. When is a `Function` *tracing*?\n",
    "\n",
    "To figure out when your `Function` is tracing, add a print statement to its code. As a rule of thumb, Function will execute the `print` statement every time it traces."
   ]
  },
  {
   "cell_type": "code",
   "execution_count": 23,
   "id": "f53ed013-16ae-4f5b-998b-12124a52f824",
   "metadata": {},
   "outputs": [
    {
     "name": "stdout",
     "output_type": "stream",
     "text": [
      "Tracing!\n",
      "tf.Tensor(6, shape=(), dtype=int32)\n",
      "tf.Tensor(11, shape=(), dtype=int32)\n"
     ]
    }
   ],
   "source": [
    "@tf.function\n",
    "def a_function_with_python_side_effect(x):\n",
    "    print(\"Tracing!\")\n",
    "    return x * x + tf.constant(2)\n",
    "\n",
    "#traced for the first time so no side fx\n",
    "print(a_function_with_python_side_effect(tf.constant(2)))\n",
    "#for second timw, no side fx\n",
    "print(a_function_with_python_side_effect(tf.constant(3)))"
   ]
  },
  {
   "cell_type": "code",
   "execution_count": 24,
   "id": "18c063eb-7a6f-4987-a6e6-30a31c8f6ef2",
   "metadata": {},
   "outputs": [
    {
     "name": "stdout",
     "output_type": "stream",
     "text": [
      "Tracing!\n",
      "tf.Tensor(6, shape=(), dtype=int32)\n",
      "Tracing!\n",
      "tf.Tensor(11, shape=(), dtype=int32)\n"
     ]
    }
   ],
   "source": [
    "# This retraces each time the Python argument changes,\n",
    "# as a Python argument could be an epoch count or other\n",
    "# hyperparameter.\n",
    "print(a_function_with_python_side_effect(2))\n",
    "print(a_function_with_python_side_effect(3))"
   ]
  },
  {
   "cell_type": "markdown",
   "id": "b1e77966-8ca5-47ce-83a3-21ac166ad2d3",
   "metadata": {},
   "source": [
    "New Python arguments always trigger the creation of a new graph, hence the extra tracing."
   ]
  }
 ],
 "metadata": {
  "kernelspec": {
   "display_name": "Python 3 (ipykernel)",
   "language": "python",
   "name": "python3"
  },
  "language_info": {
   "codemirror_mode": {
    "name": "ipython",
    "version": 3
   },
   "file_extension": ".py",
   "mimetype": "text/x-python",
   "name": "python",
   "nbconvert_exporter": "python",
   "pygments_lexer": "ipython3",
   "version": "3.9.7"
  }
 },
 "nbformat": 4,
 "nbformat_minor": 5
}
