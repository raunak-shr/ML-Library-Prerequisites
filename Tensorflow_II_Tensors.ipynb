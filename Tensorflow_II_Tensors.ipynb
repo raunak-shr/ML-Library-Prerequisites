{
 "cells": [
  {
   "cell_type": "markdown",
   "id": "b0efb80a-b16a-4f09-8df0-372852b9b3a6",
   "metadata": {},
   "source": [
    "# <p style=\"text-align:center;\">Tensorflow - II</p>\n",
    "---\n",
    "*<p style=\"text-align:right;\">Reference: Tensorflow Official Docs</p>*\n"
   ]
  },
  {
   "cell_type": "code",
   "execution_count": 1,
   "id": "22f7f5b4-6a4d-4df6-bae8-e33c84a2f7dd",
   "metadata": {},
   "outputs": [],
   "source": [
    "import tensorflow as tf\n",
    "import numpy as np\n",
    "import matplotlib.pyplot as plt"
   ]
  },
  {
   "cell_type": "markdown",
   "id": "88916862-36e4-473f-99d2-f9692e0f1fbf",
   "metadata": {},
   "source": [
    "# Introduction to Tensors\n",
    "\n",
    "Tensors are multi-dimensional arrays with a uniform type (called a `dtype`). You can see all supported dtypes at `tf.dtypes.DType`.\n",
    "\n",
    "If you're familiar with NumPy, tensors are (kind of) like `np.arrays`.\n",
    "\n",
    "All tensors are immutable like Python numbers and strings: you can never update the contents of a tensor, only create a new one."
   ]
  },
  {
   "cell_type": "markdown",
   "id": "26184524-3602-4080-bdcf-ba534e42eb68",
   "metadata": {},
   "source": [
    "## 1. Basics\n",
    "\n",
    "First, create some basic tensors.\n",
    "\n",
    "Here is a \"scalar\" or \"rank-0\" tensor . A scalar contains a single value, and no \"axes\"."
   ]
  },
  {
   "cell_type": "code",
   "execution_count": 2,
   "id": "40f1c6e5-2c46-4486-8e29-e14d37dfe732",
   "metadata": {},
   "outputs": [
    {
     "name": "stdout",
     "output_type": "stream",
     "text": [
      "tf.Tensor(69, shape=(), dtype=int32)\n"
     ]
    }
   ],
   "source": [
    "rank_0_tensor = tf.constant(69)\n",
    "print(rank_0_tensor)"
   ]
  },
  {
   "cell_type": "markdown",
   "id": "8cf09599-deb0-4301-b85f-bb9d581b0906",
   "metadata": {},
   "source": [
    "A \"vector\" or \"rank-1\" tensor has one axis"
   ]
  },
  {
   "cell_type": "code",
   "execution_count": 3,
   "id": "ba45bbe0-2a7d-4be8-b3ca-50e70ca9f45f",
   "metadata": {},
   "outputs": [
    {
     "name": "stdout",
     "output_type": "stream",
     "text": [
      "tf.Tensor([2 3 4], shape=(3,), dtype=int32)\n"
     ]
    }
   ],
   "source": [
    "rank_1_tensor = tf.constant([2,3,4])\n",
    "print(rank_1_tensor)"
   ]
  },
  {
   "cell_type": "markdown",
   "id": "78ccadc6-b21c-4aab-8d20-f3bf7e702f9e",
   "metadata": {},
   "source": [
    "A \"matrix\" or \"rank-2\" tensor has two axes"
   ]
  },
  {
   "cell_type": "code",
   "execution_count": 4,
   "id": "824c1e3c-f6ce-42e0-a3a9-4679da93b9b0",
   "metadata": {},
   "outputs": [
    {
     "name": "stdout",
     "output_type": "stream",
     "text": [
      "tf.Tensor(\n",
      "[[1 2 3]\n",
      " [4 5 6]\n",
      " [7 8 9]], shape=(3, 3), dtype=int32)\n"
     ]
    }
   ],
   "source": [
    "rank_2_tensor = tf.constant([[1,2,3],[4,5,6],[7,8,9]])\n",
    "print(rank_2_tensor)"
   ]
  },
  {
   "cell_type": "markdown",
   "id": "236bbe12-0596-4c43-82d1-8155ea20f1f2",
   "metadata": {
    "tags": []
   },
   "source": [
    "You can convert a tensor to a NumPy array either using `np.array` or the `tensor.numpy` method:"
   ]
  },
  {
   "cell_type": "code",
   "execution_count": 5,
   "id": "1b52d18e-e141-4c22-946a-e687200194c6",
   "metadata": {},
   "outputs": [
    {
     "data": {
      "text/plain": [
       "array([[1, 2, 3],\n",
       "       [4, 5, 6],\n",
       "       [7, 8, 9]])"
      ]
     },
     "execution_count": 5,
     "metadata": {},
     "output_type": "execute_result"
    }
   ],
   "source": [
    "np.array(rank_2_tensor)"
   ]
  },
  {
   "cell_type": "code",
   "execution_count": 6,
   "id": "03eb8627-e499-4e7b-abea-d5579fa71390",
   "metadata": {},
   "outputs": [
    {
     "data": {
      "text/plain": [
       "array([[1, 2, 3],\n",
       "       [4, 5, 6],\n",
       "       [7, 8, 9]])"
      ]
     },
     "execution_count": 6,
     "metadata": {},
     "output_type": "execute_result"
    }
   ],
   "source": [
    "rank_2_tensor.numpy()"
   ]
  },
  {
   "cell_type": "code",
   "execution_count": 7,
   "id": "352be678-2662-48f8-ad71-671cf41d4aac",
   "metadata": {},
   "outputs": [],
   "source": [
    "rank_3_tensor = tf.constant([\n",
    "  [[0, 1, 2, 3, 4],\n",
    "   [5, 6, 7, 8, 9]],\n",
    "  [[10, 11, 12, 13, 14],\n",
    "   [15, 16, 17, 18, 19]],\n",
    "  [[20, 21, 22, 23, 24],\n",
    "   [25, 26, 27, 28, 29]],])"
   ]
  },
  {
   "cell_type": "markdown",
   "id": "0ee0d9ee-c4e9-428d-a2f3-ebfc04e3459d",
   "metadata": {},
   "source": [
    "The base `tf.Tensor` class requires tensors to be \"rectangular\" -- that is, along each axis, every element is the same size. Howeve, there are specialized types of tensors that can handle different shapes:\n",
    "* Ragged tensors\n",
    "* Sparse tensors\n",
    "\n",
    "Basic maths can be done on tensors as shown"
   ]
  },
  {
   "cell_type": "code",
   "execution_count": 8,
   "id": "a38c5fb4-8bd7-428c-a460-19e7cdbefd9a",
   "metadata": {},
   "outputs": [
    {
     "name": "stdout",
     "output_type": "stream",
     "text": [
      "tf.Tensor(\n",
      "[[2 3]\n",
      " [4 5]], shape=(2, 2), dtype=int32) \n",
      "\n",
      "tf.Tensor(\n",
      "[[1 2]\n",
      " [3 4]], shape=(2, 2), dtype=int32) \n",
      "\n",
      "tf.Tensor(\n",
      "[[3 3]\n",
      " [7 7]], shape=(2, 2), dtype=int32) \n",
      "\n"
     ]
    }
   ],
   "source": [
    "a = tf.constant([[1, 2],[3, 4]])\n",
    "b = tf.constant([[1, 1],[1, 1]])\n",
    "\n",
    "print(tf.add(a,b),\"\\n\")\n",
    "print(tf.multiply(a,b),\"\\n\")\n",
    "print(tf.matmul(a,b),\"\\n\")"
   ]
  },
  {
   "cell_type": "code",
   "execution_count": 9,
   "id": "f80ee8c6-3875-4fd2-b479-c8ab6c0a847e",
   "metadata": {},
   "outputs": [
    {
     "name": "stdout",
     "output_type": "stream",
     "text": [
      "tf.Tensor(\n",
      "[[2 3]\n",
      " [4 5]], shape=(2, 2), dtype=int32) \n",
      " tf.Tensor(\n",
      "[[1 2]\n",
      " [3 4]], shape=(2, 2), dtype=int32) \n",
      " tf.Tensor(\n",
      "[[3 3]\n",
      " [7 7]], shape=(2, 2), dtype=int32) \n",
      "\n"
     ]
    }
   ],
   "source": [
    "print(a + b, \"\\n\", a*b, \"\\n\", a@b, \"\\n\")"
   ]
  },
  {
   "cell_type": "markdown",
   "id": "579f8343-4b75-4f57-ba47-8086ebc6e481",
   "metadata": {},
   "source": [
    "Tensors are used in all kind of operations"
   ]
  },
  {
   "cell_type": "code",
   "execution_count": 10,
   "id": "b11dfd45-487a-4329-8ce1-eb2e6c663918",
   "metadata": {},
   "outputs": [
    {
     "name": "stdout",
     "output_type": "stream",
     "text": [
      "tf.Tensor(20.0, shape=(), dtype=float32)\n",
      "tf.Tensor([1 0], shape=(2,), dtype=int64)\n",
      "tf.Tensor(\n",
      "[[2.6894143e-01 7.3105860e-01]\n",
      " [9.9987662e-01 1.2339458e-04]], shape=(2, 2), dtype=float32)\n"
     ]
    }
   ],
   "source": [
    "c = tf.constant([[4.0,5.0],[10.0,1.0]])\n",
    "\n",
    "print(tf.reduce_sum(c))\n",
    "\n",
    "#index of largest value\n",
    "print(tf.math.argmax(c))\n",
    "\n",
    "#compute softmax\n",
    "print(tf.nn.softmax(c))"
   ]
  },
  {
   "cell_type": "markdown",
   "id": "d0b0a879-ec6e-4465-a9f4-a29893350165",
   "metadata": {},
   "source": [
    "Note: Typically, anywhere a TensorFlow function expects a Tensor as input, the function will also accept anything that can be converted to a Tensor using `tf.convert_to_tensor`. See below for an example."
   ]
  },
  {
   "cell_type": "code",
   "execution_count": 11,
   "id": "e849e652-5a6f-4f3e-9490-d7a5295e2cbe",
   "metadata": {},
   "outputs": [
    {
     "data": {
      "text/plain": [
       "<tf.Tensor: shape=(3,), dtype=int32, numpy=array([1, 2, 3])>"
      ]
     },
     "execution_count": 11,
     "metadata": {},
     "output_type": "execute_result"
    }
   ],
   "source": [
    "tf.convert_to_tensor([1,2,3])"
   ]
  },
  {
   "cell_type": "code",
   "execution_count": 12,
   "id": "fb45082d-efc4-4f11-a43a-cb946ea3d3b8",
   "metadata": {},
   "outputs": [
    {
     "data": {
      "text/plain": [
       "<tf.Tensor: shape=(), dtype=int32, numpy=3>"
      ]
     },
     "execution_count": 12,
     "metadata": {},
     "output_type": "execute_result"
    }
   ],
   "source": [
    "tf.reduce_max([1,2,3])"
   ]
  },
  {
   "cell_type": "markdown",
   "id": "fbe44510-6da7-4cad-b758-b80183b85f31",
   "metadata": {},
   "source": [
    "You can convery a tensor to a NumPy array either using `np.array` or the `tensor.numpy` method"
   ]
  },
  {
   "cell_type": "code",
   "execution_count": 13,
   "id": "acffae39-062e-4c33-b2ab-9ba8ca2aa78c",
   "metadata": {},
   "outputs": [
    {
     "data": {
      "text/plain": [
       "array([[1, 2, 3],\n",
       "       [4, 5, 6],\n",
       "       [7, 8, 9]])"
      ]
     },
     "execution_count": 13,
     "metadata": {},
     "output_type": "execute_result"
    }
   ],
   "source": [
    "rank_2_tensor.numpy()"
   ]
  },
  {
   "cell_type": "code",
   "execution_count": 14,
   "id": "22e960f6-a0dc-4758-b0d0-4d1a5af35a8b",
   "metadata": {},
   "outputs": [
    {
     "data": {
      "text/plain": [
       "array([[1, 2, 3],\n",
       "       [4, 5, 6],\n",
       "       [7, 8, 9]])"
      ]
     },
     "execution_count": 14,
     "metadata": {},
     "output_type": "execute_result"
    }
   ],
   "source": [
    "np.array(rank_2_tensor)"
   ]
  },
  {
   "cell_type": "markdown",
   "id": "5a595ff8-8835-436b-885a-c7d9a15cd6c2",
   "metadata": {},
   "source": [
    "## 2. About Shapes\n",
    "\n",
    "Tensors have shapes. Some vocabulary:\n",
    "\n",
    "* **Shape**: The length (number of elements) of each of the axes of a tensor.\n",
    "* **Rank**: Number of tensor axes. A scalar has rank 0, a vector has rank 1, a matrix is rank 2.\n",
    "* **Axis** or **Dimension**: A particular dimension of a tensor.\n",
    "* **Size**: The total number of items in the tensor, the product of the shape vector's elements.\n",
    "> **Note**: Although you may see reference to a \"tensor of two dimensions\", a rank-2 tensor does not usually describe a 2D space.\n",
    "\n",
    "Tensors and tf.TensorShape objects have convenient properties for accessing these:\n"
   ]
  },
  {
   "cell_type": "code",
   "execution_count": 15,
   "id": "f2872836-ca93-49ed-9591-c63fb997ba8b",
   "metadata": {},
   "outputs": [
    {
     "data": {
      "text/plain": [
       "<tf.Tensor: shape=(3, 2, 4, 5), dtype=float32, numpy=\n",
       "array([[[[0., 0., 0., 0., 0.],\n",
       "         [0., 0., 0., 0., 0.],\n",
       "         [0., 0., 0., 0., 0.],\n",
       "         [0., 0., 0., 0., 0.]],\n",
       "\n",
       "        [[0., 0., 0., 0., 0.],\n",
       "         [0., 0., 0., 0., 0.],\n",
       "         [0., 0., 0., 0., 0.],\n",
       "         [0., 0., 0., 0., 0.]]],\n",
       "\n",
       "\n",
       "       [[[0., 0., 0., 0., 0.],\n",
       "         [0., 0., 0., 0., 0.],\n",
       "         [0., 0., 0., 0., 0.],\n",
       "         [0., 0., 0., 0., 0.]],\n",
       "\n",
       "        [[0., 0., 0., 0., 0.],\n",
       "         [0., 0., 0., 0., 0.],\n",
       "         [0., 0., 0., 0., 0.],\n",
       "         [0., 0., 0., 0., 0.]]],\n",
       "\n",
       "\n",
       "       [[[0., 0., 0., 0., 0.],\n",
       "         [0., 0., 0., 0., 0.],\n",
       "         [0., 0., 0., 0., 0.],\n",
       "         [0., 0., 0., 0., 0.]],\n",
       "\n",
       "        [[0., 0., 0., 0., 0.],\n",
       "         [0., 0., 0., 0., 0.],\n",
       "         [0., 0., 0., 0., 0.],\n",
       "         [0., 0., 0., 0., 0.]]]], dtype=float32)>"
      ]
     },
     "execution_count": 15,
     "metadata": {},
     "output_type": "execute_result"
    }
   ],
   "source": [
    "rank_4_tensor = tf.zeros([3,2,4,5])\n",
    "rank_4_tensor"
   ]
  },
  {
   "cell_type": "code",
   "execution_count": 16,
   "id": "d2df6f31-9cc0-4036-b061-3005de249001",
   "metadata": {},
   "outputs": [
    {
     "name": "stdout",
     "output_type": "stream",
     "text": [
      "Type of every element: <dtype: 'float32'>\n",
      "Number of axes: 4\n",
      "Shape of tensor: (3, 2, 4, 5)\n",
      "Elements along axis 0 of tensor: 3\n",
      "Elements along the last axis of tensor: 5\n",
      "Total number of elements (3*2*4*5):  120\n"
     ]
    }
   ],
   "source": [
    "print(\"Type of every element:\", rank_4_tensor.dtype)\n",
    "print(\"Number of axes:\", rank_4_tensor.ndim)\n",
    "print(\"Shape of tensor:\", rank_4_tensor.shape)\n",
    "print(\"Elements along axis 0 of tensor:\", rank_4_tensor.shape[0])\n",
    "print(\"Elements along the last axis of tensor:\", rank_4_tensor.shape[-1])\n",
    "print(\"Total number of elements (3*2*4*5): \", tf.size(rank_4_tensor).numpy())"
   ]
  },
  {
   "cell_type": "code",
   "execution_count": 17,
   "id": "720f38c4-2c00-4266-b093-ba48ff7f686b",
   "metadata": {},
   "outputs": [],
   "source": [
    "#axis 0            axis -1\n",
    "#   ^                 ^\n",
    "#   |                 |\n",
    "#|--3--|--2--|--4--|--5--|"
   ]
  },
  {
   "cell_type": "markdown",
   "id": "0094bf91-e31e-48c4-9454-3a5a7565c4af",
   "metadata": {},
   "source": [
    "But note that the `Tensor.ndim` and `Tensor.shape` attributes don't return `Tensor` objects. If you need a Tensor use the `tf.rank` or `tf.shape` function. This difference is subtle, but it can be important when building graphs (later)."
   ]
  },
  {
   "cell_type": "code",
   "execution_count": 18,
   "id": "6e40d7f7-adcc-4c07-a66d-396e8f016dd9",
   "metadata": {},
   "outputs": [
    {
     "data": {
      "text/plain": [
       "<tf.Tensor: shape=(), dtype=int32, numpy=4>"
      ]
     },
     "execution_count": 18,
     "metadata": {},
     "output_type": "execute_result"
    }
   ],
   "source": [
    "tf.rank(rank_4_tensor)"
   ]
  },
  {
   "cell_type": "code",
   "execution_count": 19,
   "id": "c2ef5698-996c-41fd-b346-9a213ad41bb0",
   "metadata": {},
   "outputs": [
    {
     "data": {
      "text/plain": [
       "<tf.Tensor: shape=(4,), dtype=int32, numpy=array([3, 2, 4, 5])>"
      ]
     },
     "execution_count": 19,
     "metadata": {},
     "output_type": "execute_result"
    }
   ],
   "source": [
    "tf.shape(rank_4_tensor)"
   ]
  },
  {
   "cell_type": "markdown",
   "id": "dcd60b08-4506-4d9d-aa76-e84595c76d4d",
   "metadata": {},
   "source": [
    "While axes are often referred to by their indices, you should always keep track of the meaning of each. Often axes are ordered from global to local: The batch axis first, followed by spatial dimensions, and features for each location last. This way feature vectors are contiguous regions of memory."
   ]
  },
  {
   "cell_type": "code",
   "execution_count": 20,
   "id": "22e1d695-482a-49d9-ad64-bd9b71acea4d",
   "metadata": {},
   "outputs": [],
   "source": [
    "#Batch   Height Width  Features\n",
    "#   ^     ^     ^      ^\n",
    "#   |     |     |      |\n",
    "#|--3--|--2--|--4--|--5--|\n",
    "#<---------Rank 4-------->"
   ]
  },
  {
   "cell_type": "markdown",
   "id": "bb30e224-69f6-4af5-94c5-b752845663ea",
   "metadata": {},
   "source": [
    "## 3. Indexing\n",
    "\n",
    "### Single-Axis Indexing\n",
    "TensorFlow follows standard Python indexing rules, similar to indexing a list or a string in Python, and the basic rules for NumPy indexing.\n",
    "\n",
    "indexes start at `0`\n",
    "negative indices count backwards from the end\n",
    "colons, `:`, are used for slices: `start:stop:step`"
   ]
  },
  {
   "cell_type": "code",
   "execution_count": 21,
   "id": "dc0806a5-1d38-496b-929f-07fc89ba1194",
   "metadata": {},
   "outputs": [
    {
     "name": "stdout",
     "output_type": "stream",
     "text": [
      "[ 0  1  1  2  3  5  8 13 21 34]\n"
     ]
    }
   ],
   "source": [
    "rank_1_tensor = tf.constant([0,1,1,2,3,5,8,13,21,34])\n",
    "print(rank_1_tensor.numpy())"
   ]
  },
  {
   "cell_type": "markdown",
   "id": "9356be08-d757-4371-99d5-41f7e702f1e4",
   "metadata": {},
   "source": [
    "Indexing with a scalar removes the axis:"
   ]
  },
  {
   "cell_type": "code",
   "execution_count": 22,
   "id": "35810d10-28b4-40b7-a392-e94a2ec72729",
   "metadata": {},
   "outputs": [
    {
     "name": "stdout",
     "output_type": "stream",
     "text": [
      "First: 0\n",
      "Second: 1\n",
      "Last: 34\n"
     ]
    }
   ],
   "source": [
    "print(\"First:\", rank_1_tensor[0].numpy())\n",
    "print(\"Second:\", rank_1_tensor[1].numpy())\n",
    "print(\"Last:\", rank_1_tensor[-1].numpy())"
   ]
  },
  {
   "cell_type": "markdown",
   "id": "ef98fa7e-b54d-45c2-92e1-8bfd38125b79",
   "metadata": {},
   "source": [
    "Indexing with a `:` keeps the axis:"
   ]
  },
  {
   "cell_type": "code",
   "execution_count": 23,
   "id": "54eb1f82-c8a3-4cd9-b718-1106d60c3613",
   "metadata": {},
   "outputs": [
    {
     "name": "stdout",
     "output_type": "stream",
     "text": [
      "Everything: [ 0  1  1  2  3  5  8 13 21 34]\n",
      "Before 4: [0 1 1 2]\n",
      "From 4 to the end: [ 3  5  8 13 21 34]\n",
      "From 2, before 7: [1 2 3 5 8]\n",
      "Every other item: [ 0  1  3  8 21]\n",
      "Reversed: [34 21 13  8  5  3  2  1  1  0]\n"
     ]
    }
   ],
   "source": [
    "print(\"Everything:\", rank_1_tensor[:].numpy())\n",
    "print(\"Before 4:\", rank_1_tensor[:4].numpy())\n",
    "print(\"From 4 to the end:\", rank_1_tensor[4:].numpy())\n",
    "print(\"From 2, before 7:\", rank_1_tensor[2:7].numpy())\n",
    "print(\"Every other item:\", rank_1_tensor[::2].numpy())\n",
    "print(\"Reversed:\", rank_1_tensor[::-1].numpy())"
   ]
  },
  {
   "cell_type": "markdown",
   "id": "dc89326d-4b90-42a9-8da0-a4faf43e8560",
   "metadata": {},
   "source": [
    "### Multi-Axis Indexing"
   ]
  },
  {
   "cell_type": "markdown",
   "id": "acb80e88-5ad0-4571-ae93-9eecf9f07586",
   "metadata": {},
   "source": [
    "Higher rank tensors are indexed by passing multiple indices. The exact rules as in the single-axis case apply to each axis independently."
   ]
  },
  {
   "cell_type": "code",
   "execution_count": 24,
   "id": "bc29e5d0-ef98-43b9-9163-5c6d643a8741",
   "metadata": {},
   "outputs": [
    {
     "name": "stdout",
     "output_type": "stream",
     "text": [
      "[[1 2 3]\n",
      " [4 5 6]\n",
      " [7 8 9]]\n"
     ]
    }
   ],
   "source": [
    "print(rank_2_tensor.numpy())"
   ]
  },
  {
   "cell_type": "markdown",
   "id": "b9ff92d5-081d-43f7-a38d-083893b2ee68",
   "metadata": {},
   "source": [
    "Passing an integer for each index, the result is a scalar."
   ]
  },
  {
   "cell_type": "code",
   "execution_count": 25,
   "id": "66d7020a-4af3-439b-98f1-0c5b6a0a086e",
   "metadata": {},
   "outputs": [
    {
     "name": "stdout",
     "output_type": "stream",
     "text": [
      "5\n"
     ]
    }
   ],
   "source": [
    "print(rank_2_tensor[1,1].numpy())"
   ]
  },
  {
   "cell_type": "code",
   "execution_count": 26,
   "id": "336d226d-de73-419b-a8da-19060fc9fb96",
   "metadata": {},
   "outputs": [
    {
     "name": "stdout",
     "output_type": "stream",
     "text": [
      "Second row: [4 5 6]\n",
      "Second column: [2 5 8]\n",
      "Last row: [7 8 9]\n",
      "First item in last column: 3\n",
      "Skip the first row:\n",
      "[[4 5 6]\n",
      " [7 8 9]] \n",
      "\n"
     ]
    }
   ],
   "source": [
    "# Get row and column tensors\n",
    "print(\"Second row:\", rank_2_tensor[1, :].numpy())\n",
    "print(\"Second column:\", rank_2_tensor[:, 1].numpy())\n",
    "print(\"Last row:\", rank_2_tensor[-1, :].numpy())\n",
    "print(\"First item in last column:\", rank_2_tensor[0, -1].numpy())\n",
    "print(\"Skip the first row:\")\n",
    "print(rank_2_tensor[1:, :].numpy(), \"\\n\")"
   ]
  },
  {
   "cell_type": "markdown",
   "id": "8430dd7c-8297-4ed6-9819-07e97a651872",
   "metadata": {},
   "source": [
    "Here is an example ousing a 3-axis tensor:"
   ]
  },
  {
   "cell_type": "code",
   "execution_count": 27,
   "id": "7144b77f-5f31-41cb-85d5-9bfc8febc324",
   "metadata": {},
   "outputs": [
    {
     "name": "stdout",
     "output_type": "stream",
     "text": [
      "tf.Tensor(\n",
      "[[ 4  9]\n",
      " [14 19]\n",
      " [24 29]], shape=(3, 2), dtype=int32)\n"
     ]
    }
   ],
   "source": [
    "print(rank_3_tensor[:,:,4])"
   ]
  },
  {
   "cell_type": "markdown",
   "id": "7b47e376-6e03-40b0-8b5a-a506e9616e76",
   "metadata": {},
   "source": [
    "## 4. Manipulating Shapes\n",
    "\n",
    "Reshaping a tensor is of great utility"
   ]
  },
  {
   "cell_type": "code",
   "execution_count": 28,
   "id": "850598d1-4385-49bc-85d3-f6843041346e",
   "metadata": {},
   "outputs": [
    {
     "name": "stdout",
     "output_type": "stream",
     "text": [
      "(3, 1)\n"
     ]
    }
   ],
   "source": [
    "x = tf.constant([[1],[2],[3]])\n",
    "print(x.shape)"
   ]
  },
  {
   "cell_type": "markdown",
   "id": "e2022203-a8dc-4cb3-9a10-ade91aea19cc",
   "metadata": {},
   "source": [
    "The shape tuple can be converted to a python list using `var.shape.as_list` function"
   ]
  },
  {
   "cell_type": "code",
   "execution_count": 29,
   "id": "8a6cca3f-9965-46bf-bb44-2d703b2e3909",
   "metadata": {},
   "outputs": [
    {
     "name": "stdout",
     "output_type": "stream",
     "text": [
      "[3, 1]\n"
     ]
    }
   ],
   "source": [
    "print(x.shape.as_list())"
   ]
  },
  {
   "cell_type": "markdown",
   "id": "07976274-c7c0-4f42-842d-8e49aa28c8e5",
   "metadata": {},
   "source": [
    "The tensor can be reshaped using `tf.reshape()` feature. This is fast and cheap since the underlying data does not need to be duplicated"
   ]
  },
  {
   "cell_type": "code",
   "execution_count": 30,
   "id": "5082abf1-8b52-4097-8055-54d8c5784017",
   "metadata": {},
   "outputs": [],
   "source": [
    "reshaped = tf.reshape(x, [1,3])"
   ]
  },
  {
   "cell_type": "code",
   "execution_count": 31,
   "id": "febcfddc-aa5c-4d01-9620-5e01eb37a5fd",
   "metadata": {},
   "outputs": [
    {
     "name": "stdout",
     "output_type": "stream",
     "text": [
      "(3, 1)\n",
      "(1, 3)\n"
     ]
    }
   ],
   "source": [
    "print(x.shape)\n",
    "print(reshaped.shape)"
   ]
  },
  {
   "cell_type": "markdown",
   "id": "e0220035-0cab-4bec-9956-5b6c0c7bbc3b",
   "metadata": {},
   "source": [
    "The data maintains its layout in memory and a new tensor is created, with the requested shape, pointing to the same data. TensorFlow uses C-style \"row-major\" memory ordering, where incrementing the rightmost index corresponds to a single step in memory."
   ]
  },
  {
   "cell_type": "code",
   "execution_count": 32,
   "id": "f982578b-ebf6-42d2-9196-e47d9575ef06",
   "metadata": {},
   "outputs": [
    {
     "name": "stdout",
     "output_type": "stream",
     "text": [
      "tf.Tensor(\n",
      "[[[ 0  1  2  3  4]\n",
      "  [ 5  6  7  8  9]]\n",
      "\n",
      " [[10 11 12 13 14]\n",
      "  [15 16 17 18 19]]\n",
      "\n",
      " [[20 21 22 23 24]\n",
      "  [25 26 27 28 29]]], shape=(3, 2, 5), dtype=int32)\n"
     ]
    }
   ],
   "source": [
    "print(rank_3_tensor)"
   ]
  },
  {
   "cell_type": "markdown",
   "id": "b25a0134-ffae-4a9d-bb36-ae368e1dc4d4",
   "metadata": {},
   "source": [
    "If you flatten a tensor you can see what order it is laid out in memeory"
   ]
  },
  {
   "cell_type": "code",
   "execution_count": 33,
   "id": "a1bc7a8f-89a3-4a2f-8554-20b656bdad31",
   "metadata": {},
   "outputs": [
    {
     "data": {
      "text/plain": [
       "<tf.Tensor: shape=(30,), dtype=int32, numpy=\n",
       "array([ 0,  1,  2,  3,  4,  5,  6,  7,  8,  9, 10, 11, 12, 13, 14, 15, 16,\n",
       "       17, 18, 19, 20, 21, 22, 23, 24, 25, 26, 27, 28, 29])>"
      ]
     },
     "execution_count": 33,
     "metadata": {},
     "output_type": "execute_result"
    }
   ],
   "source": [
    "tf.reshape(rank_3_tensor, [-1])"
   ]
  },
  {
   "cell_type": "markdown",
   "id": "f0ee79ab-2f66-4a91-b10b-35d45ac3d60c",
   "metadata": {},
   "source": [
    "Typically the only reasonable use of `tf.reshape` is to combine or split adjacent axes (ir add/remove `1`s).\n",
    "\n",
    "For this 3x2x2 tensor, reshaping to (3x2)x5 or 3x(2x5) are both reasonable things to do, as the slices do not mix:"
   ]
  },
  {
   "cell_type": "code",
   "execution_count": 34,
   "id": "ed6925ee-e263-4c8d-8a02-f0661e970085",
   "metadata": {},
   "outputs": [
    {
     "name": "stdout",
     "output_type": "stream",
     "text": [
      "tf.Tensor(\n",
      "[[ 0  1  2  3  4]\n",
      " [ 5  6  7  8  9]\n",
      " [10 11 12 13 14]\n",
      " [15 16 17 18 19]\n",
      " [20 21 22 23 24]\n",
      " [25 26 27 28 29]], shape=(6, 5), dtype=int32) \n",
      "\n",
      "tf.Tensor(\n",
      "[[ 0  1  2  3  4  5  6  7  8  9]\n",
      " [10 11 12 13 14 15 16 17 18 19]\n",
      " [20 21 22 23 24 25 26 27 28 29]], shape=(3, 10), dtype=int32)\n"
     ]
    }
   ],
   "source": [
    "print(tf.reshape(rank_3_tensor, [3*2, 5]), \"\\n\")\n",
    "print(tf.reshape(rank_3_tensor, [3,-1]))"
   ]
  },
  {
   "cell_type": "markdown",
   "id": "01223420-fcb6-4c10-8bab-855a276f9dc1",
   "metadata": {},
   "source": [
    ">***Note that this method can also be used to preserve axes upto a certain axis***"
   ]
  },
  {
   "cell_type": "markdown",
   "id": "cf7ebb52-8986-49be-82c8-5d10bb07ab41",
   "metadata": {},
   "source": [
    "Reshaping will \"work\" for any new shape with the same total number of elements, but it will not do anything useful if you do not respect the order of the axes.\n",
    "\n",
    "Swapping axes in `tf.reshape` does not work; you need `tf.transpose` for that."
   ]
  },
  {
   "cell_type": "code",
   "execution_count": 35,
   "id": "476b0bbf-ba83-4a46-a994-502355b981bf",
   "metadata": {},
   "outputs": [
    {
     "name": "stdout",
     "output_type": "stream",
     "text": [
      "tf.Tensor(\n",
      "[[[ 0  1  2  3  4]\n",
      "  [ 5  6  7  8  9]\n",
      "  [10 11 12 13 14]]\n",
      "\n",
      " [[15 16 17 18 19]\n",
      "  [20 21 22 23 24]\n",
      "  [25 26 27 28 29]]], shape=(2, 3, 5), dtype=int32) \n",
      "\n",
      "tf.Tensor(\n",
      "[[ 0  1  2  3  4  5]\n",
      " [ 6  7  8  9 10 11]\n",
      " [12 13 14 15 16 17]\n",
      " [18 19 20 21 22 23]\n",
      " [24 25 26 27 28 29]], shape=(5, 6), dtype=int32) \n",
      "\n",
      "InvalidArgumentError: {{function_node __wrapped__Reshape_device_/job:localhost/replica:0/task:0/device:CPU:0}} Input to reshape is a tensor with 30 values, but the requested shape requires a multiple of 7 [Op:Reshape]\n"
     ]
    }
   ],
   "source": [
    "# Bad examples: don't do this\n",
    "\n",
    "# You can't reorder axes with reshape.\n",
    "print(tf.reshape(rank_3_tensor, [2,3,5]), \"\\n\") \n",
    "\n",
    "# This is a mess\n",
    "print(tf.reshape(rank_3_tensor, [5, 6]), \"\\n\")\n",
    "\n",
    "# This doesn't work at all\n",
    "try:\n",
    "  tf.reshape(rank_3_tensor, [7, -1])\n",
    "except Exception as e:\n",
    "  print(f\"{type(e).__name__}: {e}\")"
   ]
  },
  {
   "cell_type": "markdown",
   "id": "8de2fa08-fab5-487e-a59e-0261f5904298",
   "metadata": {},
   "source": [
    "Some bad reshapes\n",
    "![ing1](https://www.tensorflow.org/static/guide/images/tensor/reshape-bad.png)\n",
    "![img2](https://www.tensorflow.org/static/guide/images/tensor/reshape-bad4.png)\n",
    "![img3](https://www.tensorflow.org/static/guide/images/tensor/reshape-bad2.png)"
   ]
  },
  {
   "cell_type": "markdown",
   "id": "bcd31697-638d-482d-93c5-1f89d677eb06",
   "metadata": {},
   "source": [
    "You may run across not-fully-specified shapes. Either the shape contains a None (an axis-length is unknown) or the whole shape is None (the rank of the tensor is unknown).\n",
    "\n",
    "Except for `tf.RaggedTensor`, such shapes will only occur in the context of TensorFlow's symbolic, graph-building APIs:\n",
    "\n",
    "* `tf.function`\n",
    "* The keras functional API."
   ]
  },
  {
   "cell_type": "markdown",
   "id": "3f224f92-6a55-4eae-91bb-13b5874d610b",
   "metadata": {},
   "source": [
    "## 5. More on DTypes\n",
    "To inspect a `tf.Tensor`'s data type use the `Tensor.dtype` property.\n",
    "\n",
    "When creating a `tf.Tensor` from a Python object you may optionally specify the datatype.\n",
    "\n",
    "If you don't, TensorFlow chooses a datatype that can represent your data. TensorFlow converts Python integers to `tf.int32` and Python floating point numbers to `tf.float32`. Otherwise TensorFlow uses the same rules NumPy uses when converting to arrays.\n",
    "\n",
    "You can cast from type to type."
   ]
  },
  {
   "cell_type": "code",
   "execution_count": 36,
   "id": "dc1d0ae4-97df-4767-89da-ac8414980368",
   "metadata": {},
   "outputs": [
    {
     "name": "stdout",
     "output_type": "stream",
     "text": [
      "tf.Tensor([2 3 4], shape=(3,), dtype=uint8)\n"
     ]
    }
   ],
   "source": [
    "the_f64_tensor = tf.constant([2.2, 3.3, 4.4], dtype=tf.float64)\n",
    "the_f16_tensor = tf.cast(the_f64_tensor, dtype=tf.float16)\n",
    "# Now, cast to an uint8 and lose the decimal precision\n",
    "the_u8_tensor = tf.cast(the_f16_tensor, dtype=tf.uint8)\n",
    "print(the_u8_tensor)"
   ]
  },
  {
   "cell_type": "markdown",
   "id": "f40e7ccd-6e4f-4b88-8bc3-239a22ecfe79",
   "metadata": {},
   "source": [
    "## 6. Broadcasting\n",
    "\n",
    "Broadcasting is a concept borrowed from the equivalent feature in NumPy. In short, under certain conditions, smaller tensors are \"stretched\" automatically to fit larger tensors when running combined operations on them.\n",
    "\n",
    "The simplest and most common case is when you attempt to multiply or add a tensor to a scalar. In that case, the scalar is broadcast to be the same shape as the other argument."
   ]
  },
  {
   "cell_type": "markdown",
   "id": "c8f95de0-d06a-4e64-88e9-8cebadc6272d",
   "metadata": {},
   "source": [
    "### `tf.convert_to_tensor`\n",
    "Most ops, like `tf.matmul` and `tf.reshape` take arguments of class `tf.Tensor`. However, you'll notice in the above case, Python objects shaped like tensors are accepted.\n",
    "\n",
    "Most, but not all, ops call `convert_to_tensor` on non-tensor arguments. There is a registry of conversions, and most object classes like NumPy's `ndarray`, `TensorShape`, Python lists, and `tf.Variable` will all convert automatically.\n",
    "\n",
    "See `tf.register_tensor_conversion_function` for more details, and if you have your own type you'd like to automatically convert to a tensor."
   ]
  },
  {
   "cell_type": "markdown",
   "id": "155b5c02-8121-4df0-b0be-9872984988e3",
   "metadata": {},
   "source": [
    "## 7. Ragged Tensors\n",
    "\n",
    "A tensor with variable numbers of elements along some axis is called \"ragged\". Use `tf.ragged.RaggedTensor` for ragged data.\n",
    "\n",
    "For example, This cannot be represented as a regular tensor: A `tf.RaggedTensor`, shape: [4, None]\n",
    "\n",
    "![img](https://www.tensorflow.org/static/guide/images/tensor/ragged.png)"
   ]
  },
  {
   "cell_type": "markdown",
   "id": "3a83e57c-2b5b-4935-a10e-03ee3d15564f",
   "metadata": {},
   "source": [
    "Instead create a `tf.RaggedTensor` using `tf.ragged.constant`:"
   ]
  },
  {
   "cell_type": "code",
   "execution_count": 37,
   "id": "037a307c-407c-4169-8617-b19c8a8d1056",
   "metadata": {},
   "outputs": [],
   "source": [
    "ragged_list = [\n",
    "    [0, 1, 2, 3],\n",
    "    [4, 5],\n",
    "    [6, 7, 8],\n",
    "    [9]]"
   ]
  },
  {
   "cell_type": "code",
   "execution_count": 38,
   "id": "c8776179-767b-47d4-8a37-eac6621af81f",
   "metadata": {},
   "outputs": [
    {
     "name": "stdout",
     "output_type": "stream",
     "text": [
      "<tf.RaggedTensor [[0, 1, 2, 3], [4, 5], [6, 7, 8], [9]]>\n"
     ]
    }
   ],
   "source": [
    "ragged_tensor = tf.ragged.constant(ragged_list)\n",
    "print(ragged_tensor)"
   ]
  },
  {
   "cell_type": "markdown",
   "id": "df004493-e48c-4af7-b3c6-3d5047c77e8a",
   "metadata": {},
   "source": [
    "The shape of a `tf.RaggedTensor` will contain some axes with unknown lengths:"
   ]
  },
  {
   "cell_type": "code",
   "execution_count": 39,
   "id": "9793f9ad-fa08-4aef-8984-a169429210af",
   "metadata": {},
   "outputs": [
    {
     "name": "stdout",
     "output_type": "stream",
     "text": [
      "(4, None)\n"
     ]
    }
   ],
   "source": [
    "print(ragged_tensor.shape)"
   ]
  },
  {
   "cell_type": "markdown",
   "id": "5dc1fd92-8821-469f-b5d5-912e4ea5b5d0",
   "metadata": {},
   "source": [
    "## 8. String Tensors\n",
    "\n",
    "`tf.string` is a dtype, which is to say you can represent data as strings (variable-length byte arrays) in tensors.\n",
    "\n",
    "The strings are atomic and cannot be indexed the way Python strings are. The length of the string is not one of the axes of the tensor. See `tf.strings` for functions to manipulate them.\n",
    "\n",
    "Here is a scalar string tensor:"
   ]
  },
  {
   "cell_type": "code",
   "execution_count": 40,
   "id": "f12e0b37-38ff-4087-873b-f22c3ad53fbe",
   "metadata": {},
   "outputs": [
    {
     "name": "stdout",
     "output_type": "stream",
     "text": [
      "tf.Tensor(b'Gray wolf', shape=(), dtype=string)\n"
     ]
    }
   ],
   "source": [
    "scalar_string_tensor = tf.constant(\"Gray wolf\")\n",
    "print(scalar_string_tensor)"
   ]
  },
  {
   "cell_type": "markdown",
   "id": "b9c7cc32-44fd-453c-88d9-ff078d29316c",
   "metadata": {},
   "source": [
    "A vector of strings"
   ]
  },
  {
   "cell_type": "code",
   "execution_count": 41,
   "id": "1299f3d2-f05f-40b9-bdf6-9ba3eb9eb907",
   "metadata": {},
   "outputs": [
    {
     "name": "stdout",
     "output_type": "stream",
     "text": [
      "tf.Tensor([b'Gray wolf' b'Quick Brown Fox' b'Lazy Dog'], shape=(3,), dtype=string)\n"
     ]
    }
   ],
   "source": [
    "tensor_of_strings = tf.constant([\"Gray wolf\", \"Quick Brown Fox\", \"Lazy Dog\"])\n",
    "print(tensor_of_strings)"
   ]
  },
  {
   "cell_type": "markdown",
   "id": "f1238204-398c-4e66-9328-f6e8f6e37882",
   "metadata": {},
   "source": [
    "In the above printout the `b` prefix indicates that `tf.string` dtype is not a unicode string, but a `byte-string`. See the Unicode Tutorial for more about working with unicode text in TensorFlow.\n",
    "\n",
    "If you pass unicode characters they are utf-8 encoded."
   ]
  },
  {
   "cell_type": "code",
   "execution_count": 42,
   "id": "3e5488c5-737a-4c15-a9ac-b5fd68d6cf26",
   "metadata": {},
   "outputs": [
    {
     "data": {
      "text/plain": [
       "<tf.Tensor: shape=(), dtype=string, numpy=b'\\xf0\\x9f\\xa5\\xb3\\xf0\\x9f\\x91\\x8d'>"
      ]
     },
     "execution_count": 42,
     "metadata": {},
     "output_type": "execute_result"
    }
   ],
   "source": [
    "tf.constant(\"🥳👍\")"
   ]
  },
  {
   "cell_type": "markdown",
   "id": "34b7213b-b313-4c67-a91b-de24575f0cab",
   "metadata": {},
   "source": [
    "Basic String Functions"
   ]
  },
  {
   "cell_type": "code",
   "execution_count": 43,
   "id": "6294dd5f-4d87-490e-9a7f-102ed1bca485",
   "metadata": {},
   "outputs": [
    {
     "name": "stdout",
     "output_type": "stream",
     "text": [
      "tf.Tensor([b'Gray' b'wolf'], shape=(2,), dtype=string)\n"
     ]
    }
   ],
   "source": [
    "print(tf.strings.split(scalar_string_tensor, sep = \" \"))"
   ]
  },
  {
   "cell_type": "code",
   "execution_count": 44,
   "id": "e307c6ee-3c54-4758-abc2-130f20c6999a",
   "metadata": {},
   "outputs": [
    {
     "name": "stdout",
     "output_type": "stream",
     "text": [
      "tf.Tensor([  1. 100. 256.], shape=(3,), dtype=float32)\n"
     ]
    }
   ],
   "source": [
    "text = tf.constant(\"1 100 256\")\n",
    "print(tf.strings.to_number(tf.strings.split(text, \" \")))"
   ]
  },
  {
   "cell_type": "markdown",
   "id": "976e9151-48bd-4ed5-90aa-f97a41fb6d53",
   "metadata": {},
   "source": [
    "## 9. Sparse Tensors\n",
    "\n",
    "Sometimes, your data is sparse, like a very wide embedding space. TensorFlow supports `tf.sparse.SparseTensor` and related operations to store sparse data efficiently."
   ]
  },
  {
   "cell_type": "code",
   "execution_count": 45,
   "id": "a894ae65-802e-44c4-b977-7197a295f535",
   "metadata": {},
   "outputs": [
    {
     "name": "stdout",
     "output_type": "stream",
     "text": [
      "SparseTensor(indices=tf.Tensor(\n",
      "[[0 0]\n",
      " [1 2]], shape=(2, 2), dtype=int64), values=tf.Tensor([1 2], shape=(2,), dtype=int32), dense_shape=tf.Tensor([3 4], shape=(2,), dtype=int64)) \n",
      "\n",
      "tf.Tensor(\n",
      "[[1 0 0 0]\n",
      " [0 0 2 0]\n",
      " [0 0 0 0]], shape=(3, 4), dtype=int32)\n"
     ]
    }
   ],
   "source": [
    "sparse_tensor = tf.sparse.SparseTensor(indices = [[0,0],[1,2]], \n",
    "                                       values = [1,2], \n",
    "                                       dense_shape = [3,4])\n",
    "print(sparse_tensor,\"\\n\")\n",
    "\n",
    "#You can convert sparse tensors to dense\n",
    "print(tf.sparse.to_dense(sparse_tensor))"
   ]
  }
 ],
 "metadata": {
  "kernelspec": {
   "display_name": "Python 3 (ipykernel)",
   "language": "python",
   "name": "python3"
  },
  "language_info": {
   "codemirror_mode": {
    "name": "ipython",
    "version": 3
   },
   "file_extension": ".py",
   "mimetype": "text/x-python",
   "name": "python",
   "nbconvert_exporter": "python",
   "pygments_lexer": "ipython3",
   "version": "3.9.7"
  }
 },
 "nbformat": 4,
 "nbformat_minor": 5
}
