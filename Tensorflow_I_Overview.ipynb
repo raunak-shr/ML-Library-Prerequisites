{
 "cells": [
  {
   "cell_type": "markdown",
   "id": "62dc37fa-c907-46e2-be21-1d09c7be2942",
   "metadata": {},
   "source": [
    "# <p style=\"text-align:center;\">Tensorflow - I</p>\n",
    "---\n",
    "*<p style=\"text-align:right;\">Reference: Tensorflow Official Docs</p>*\n"
   ]
  },
  {
   "cell_type": "code",
   "execution_count": 1,
   "id": "94e720be-eebf-4d7b-b2bd-4e31f08ee288",
   "metadata": {},
   "outputs": [
    {
     "name": "stdout",
     "output_type": "stream",
     "text": [
      "TensorFlow version: 2.10.0\n"
     ]
    }
   ],
   "source": [
    "import tensorflow as tf\n",
    "print(\"TensorFlow version:\", tf.__version__)"
   ]
  },
  {
   "cell_type": "markdown",
   "id": "69b352c3-e106-40b8-ae5f-1356d8fb71da",
   "metadata": {},
   "source": [
    "> <i>TensorFlow is an end-to-end platform that makes it easy for you to build and deploy ML models. TensorFlow offers multiple levels of abstraction so you can choose the right one for your needs. Build and train models by using the high-level Keras API, which makes getting started with TensorFlow and machine learning easy. If you need more flexibility, eager execution allows for immediate iteration and intuitive debugging. For large ML training tasks, use the Distribution Strategy API for distributed training on different hardware configurations without changing the model definition."
   ]
  },
  {
   "cell_type": "markdown",
   "id": "a70672ba-54ab-49b2-8a67-e06f2e04cdbe",
   "metadata": {},
   "source": [
    "This guide provides a quick overview of TensorFlow basics. Each section of this doc is an overview of a larger topic. TensorFlow is an end-to-end platform for machine learning. It supports the following:\n",
    "\n",
    "- Multidimensional-array based numeric computation (similar to NumPy.)\n",
    "- GPU and distributed processing\n",
    "- Automatic differentiation\n",
    "- Model construction, training, and export\n",
    "- And more"
   ]
  },
  {
   "cell_type": "markdown",
   "id": "b9ed7610-2bd1-4681-b01c-a4eb00028efd",
   "metadata": {},
   "source": [
    "# 1. Tensors\n",
    "TensorFlow operates on multidimensional arrays or tensors represented as `tf.Tensor` objects. Here is a two-dimensional tensor:"
   ]
  },
  {
   "cell_type": "code",
   "execution_count": 2,
   "id": "e858abee-6456-4df6-b048-0a633eb48d20",
   "metadata": {},
   "outputs": [
    {
     "name": "stdout",
     "output_type": "stream",
     "text": [
      "tf.Tensor(\n",
      "[[1 2 3]\n",
      " [4 5 6]\n",
      " [7 8 9]], shape=(3, 3), dtype=int32)\n",
      "Shape of X:  (3, 3)\n",
      "DataType of X:  <dtype: 'int32'>\n"
     ]
    }
   ],
   "source": [
    "x = tf.constant([[1,2,3],\n",
    "                [4,5,6],\n",
    "                [7,8,9]])\n",
    "print(x)\n",
    "print(\"Shape of X: \" , x.shape)\n",
    "print(\"DataType of X: \" , x.dtype)"
   ]
  },
  {
   "cell_type": "markdown",
   "id": "a175f6fe-c2f8-430d-ab13-12caea7e6dba",
   "metadata": {},
   "source": [
    "The most important attributes of a tf.Tensor are its shape and dtype:\n",
    "\n",
    "* `Tensor.shape`: tells you the size of the tensor along each of its axes.\n",
    "* `Tensor.dtype`: tells you the type of all the elements in the tensor.\n",
    "\n",
    "Tensorflow implements standard mathematical operations on tensors, as well as many operations specialized for ML. For ex - "
   ]
  },
  {
   "cell_type": "code",
   "execution_count": 3,
   "id": "19741562-c1ff-4840-97b5-7f0ace54d496",
   "metadata": {},
   "outputs": [
    {
     "data": {
      "text/plain": [
       "<tf.Tensor: shape=(3, 3), dtype=int32, numpy=\n",
       "array([[ 3,  4,  5],\n",
       "       [ 6,  7,  8],\n",
       "       [ 9, 10, 11]])>"
      ]
     },
     "execution_count": 3,
     "metadata": {},
     "output_type": "execute_result"
    }
   ],
   "source": [
    "x + 2"
   ]
  },
  {
   "cell_type": "code",
   "execution_count": 4,
   "id": "ad6ac8bb-94e1-4fa7-af18-bd2277435839",
   "metadata": {},
   "outputs": [
    {
     "data": {
      "text/plain": [
       "<tf.Tensor: shape=(3, 3), dtype=float64, numpy=\n",
       "array([[0.5, 1. , 1.5],\n",
       "       [2. , 2.5, 3. ],\n",
       "       [3.5, 4. , 4.5]])>"
      ]
     },
     "execution_count": 4,
     "metadata": {},
     "output_type": "execute_result"
    }
   ],
   "source": [
    "x/2"
   ]
  },
  {
   "cell_type": "markdown",
   "id": "7220d3c5-4c0b-4eee-b24c-62c5e83b2df0",
   "metadata": {},
   "source": [
    "The `@` symbol is used as Matrix multiplication and equal to `tf.matmul()`"
   ]
  },
  {
   "cell_type": "code",
   "execution_count": 5,
   "id": "27328178-b06c-495f-94b9-40a19a25dbbe",
   "metadata": {},
   "outputs": [
    {
     "data": {
      "text/plain": [
       "<tf.Tensor: shape=(3, 3), dtype=int32, numpy=\n",
       "array([[ 14,  32,  50],\n",
       "       [ 32,  77, 122],\n",
       "       [ 50, 122, 194]])>"
      ]
     },
     "execution_count": 5,
     "metadata": {},
     "output_type": "execute_result"
    }
   ],
   "source": [
    "x @ tf.transpose(x)"
   ]
  },
  {
   "cell_type": "code",
   "execution_count": 6,
   "id": "54076cfc-3e27-4f13-8491-365dbb418142",
   "metadata": {},
   "outputs": [
    {
     "name": "stdout",
     "output_type": "stream",
     "text": [
      "Shape of x_concat:  (3, 15)\n"
     ]
    }
   ],
   "source": [
    "x_concat = tf.concat([x,x,x,x,x], axis = 1)\n",
    "print(\"Shape of x_concat: \", x_concat.shape)"
   ]
  },
  {
   "cell_type": "code",
   "execution_count": 7,
   "id": "51611d6a-cd37-48e5-b3b5-532ff0130a44",
   "metadata": {},
   "outputs": [
    {
     "data": {
      "text/plain": [
       "<tf.Tensor: shape=(3, 15), dtype=int32, numpy=\n",
       "array([[1, 2, 3, 1, 2, 3, 1, 2, 3, 1, 2, 3, 1, 2, 3],\n",
       "       [4, 5, 6, 4, 5, 6, 4, 5, 6, 4, 5, 6, 4, 5, 6],\n",
       "       [7, 8, 9, 7, 8, 9, 7, 8, 9, 7, 8, 9, 7, 8, 9]])>"
      ]
     },
     "execution_count": 7,
     "metadata": {},
     "output_type": "execute_result"
    }
   ],
   "source": [
    "x_concat"
   ]
  },
  {
   "cell_type": "code",
   "execution_count": 8,
   "id": "f48213db-ad50-4c47-82c8-bac121ecce16",
   "metadata": {},
   "outputs": [],
   "source": [
    "x = x/3"
   ]
  },
  {
   "cell_type": "code",
   "execution_count": 9,
   "id": "56756bc7-96a2-4d26-a492-c541e3cac20d",
   "metadata": {},
   "outputs": [
    {
     "data": {
      "text/plain": [
       "<tf.Tensor: shape=(3, 3), dtype=float64, numpy=\n",
       "array([[0.23023722, 0.32132192, 0.44844086],\n",
       "       [0.23023722, 0.32132192, 0.44844086],\n",
       "       [0.23023722, 0.32132192, 0.44844086]])>"
      ]
     },
     "execution_count": 9,
     "metadata": {},
     "output_type": "execute_result"
    }
   ],
   "source": [
    "tf.nn.softmax(x, axis = -1)"
   ]
  },
  {
   "cell_type": "markdown",
   "id": "90e45b7e-5581-48f0-8199-0b90785ba82e",
   "metadata": {},
   "source": [
    "The `tf.reduce_sum` computes the sum of elements across dimensions of a tensor. Reduces input tensor along the dimensions given in `axis`. Unless `keepdims` is true, the rank of the tensor is reduced by 1 for each of the entries in axis, which must be unique. If keepdims is true, the reduced dimensions are retained with length 1.\n",
    "\n",
    "If `axis` is None, all dimensions are reduced, and a tensor with a single element is returned."
   ]
  },
  {
   "cell_type": "code",
   "execution_count": 10,
   "id": "c28de05f-8244-471c-8e81-9f8f2e033a56",
   "metadata": {},
   "outputs": [
    {
     "name": "stdout",
     "output_type": "stream",
     "text": [
      "tf.Tensor(225, shape=(), dtype=int32)\n"
     ]
    }
   ],
   "source": [
    "print(tf.reduce_sum(x_concat))"
   ]
  },
  {
   "cell_type": "markdown",
   "id": "d629184e-ef91-4279-9317-86e97cd0269a",
   "metadata": {},
   "source": [
    "**Note: Typically, anywhere a TensorFlow function expects a Tensor as input, the function will also accept anything that can be converted to a Tensor using `tf.convert_to_tensor`. See below for an example.**"
   ]
  },
  {
   "cell_type": "code",
   "execution_count": 11,
   "id": "f910faf2-36cd-4725-b7ca-684b48d5ffc8",
   "metadata": {},
   "outputs": [
    {
     "data": {
      "text/plain": [
       "<tf.Tensor: shape=(1, 3), dtype=float32, numpy=array([[36.  , 25.  , 89.32]], dtype=float32)>"
      ]
     },
     "execution_count": 11,
     "metadata": {},
     "output_type": "execute_result"
    }
   ],
   "source": [
    "tf.convert_to_tensor([[36,25,89.32]])"
   ]
  },
  {
   "cell_type": "markdown",
   "id": "f007f0b5-6520-4a7b-92e7-de67304a7fa7",
   "metadata": {},
   "source": [
    "## 2. Variables\n",
    "Normal `tf.Tensor` objects are immutable. To store model weights (or other mutable state) in TensorFlow use a `tf.Variable`."
   ]
  },
  {
   "cell_type": "code",
   "execution_count": 12,
   "id": "7d92264f-1106-4c24-a159-da1c880007ea",
   "metadata": {},
   "outputs": [],
   "source": [
    "var = tf.Variable([0.0,0.0,0.0])"
   ]
  },
  {
   "cell_type": "code",
   "execution_count": 13,
   "id": "65946b24-38db-4bc1-90b8-8452fd0b0a9f",
   "metadata": {},
   "outputs": [
    {
     "data": {
      "text/plain": [
       "<tf.Variable 'Variable:0' shape=(3,) dtype=float32, numpy=array([0., 0., 0.], dtype=float32)>"
      ]
     },
     "execution_count": 13,
     "metadata": {},
     "output_type": "execute_result"
    }
   ],
   "source": [
    "var"
   ]
  },
  {
   "cell_type": "code",
   "execution_count": 14,
   "id": "f7846671-4870-4660-8694-f8d17d399284",
   "metadata": {},
   "outputs": [
    {
     "data": {
      "text/plain": [
       "<tf.Variable 'UnreadVariable' shape=(3,) dtype=float32, numpy=array([1., 2., 3.], dtype=float32)>"
      ]
     },
     "execution_count": 14,
     "metadata": {},
     "output_type": "execute_result"
    }
   ],
   "source": [
    "var.assign([1,2,3])"
   ]
  },
  {
   "cell_type": "code",
   "execution_count": 15,
   "id": "e33ac751-5e13-4264-b873-2454ccc2f8a8",
   "metadata": {},
   "outputs": [
    {
     "data": {
      "text/plain": [
       "<tf.Variable 'UnreadVariable' shape=(3,) dtype=float32, numpy=array([2., 3., 4.], dtype=float32)>"
      ]
     },
     "execution_count": 15,
     "metadata": {},
     "output_type": "execute_result"
    }
   ],
   "source": [
    "var.assign_add([1,1,1])"
   ]
  },
  {
   "cell_type": "markdown",
   "id": "6a21c5f7-022a-4a6b-a096-812e71385b95",
   "metadata": {},
   "source": [
    "## 3. Automatic Differentiation\n",
    "\n",
    "Gradient descent and related algorithms are a cornerstone of modern machine learning.\n",
    "\n",
    "To enable this, TensorFlow implements automatic differentiation (autodiff), which uses calculus to compute gradients. Typically you'll use this to calculate the gradient of a model's error or loss with respect to its weights."
   ]
  },
  {
   "cell_type": "markdown",
   "id": "a1baf0ee-04c0-425c-8071-28d9ec8e3681",
   "metadata": {
    "tags": []
   },
   "source": [
    "At `x = 1.0`, `y = f(x) = (1**2 + 2*1 - 5) = -2`\n",
    "### Computing Gradients\n",
    "\n",
    "To differentiate automatically, TensorFlow needs to remember what operations happen in what order during the forward pass. Then, during the backward pass, TensorFlow traverses this list of operations in reverse order to compute gradients.\n",
    "\n",
    "### Gradient Tapes\n",
    "\n",
    "TensorFlow provides the `tf.GradientTape` API for automatic differentiation; that is, computing the gradient of a computation with respect to some inputs, usually `tf.Variables`. \n",
    "\n",
    "1. TensorFlow \"records\" relevant operations executed inside the `tf.GradientTape` onto a \"tape\". \n",
    "\n",
    "2. TensorFlow then uses that tape to compute the gradients of a \"recorded\" computation using reverse mode differentiation.\n",
    "\n",
    "The derivative of y is `y' = f'(x) = (2*x + 2) = 4`. TensorFlow can calculate this automatically:"
   ]
  },
  {
   "cell_type": "markdown",
   "id": "f72d2878-cba9-4609-bea5-0a2a1123dad0",
   "metadata": {},
   "source": [
    "Once you've recorded some operations, use `GradientTape.gradient`(target, sources) to calculate the gradient of some target (often a loss) relative to some source (often the model's variables):"
   ]
  },
  {
   "cell_type": "code",
   "execution_count": 16,
   "id": "14aeaa27-8b93-416a-b000-7b1b8db6f920",
   "metadata": {},
   "outputs": [],
   "source": [
    "x = tf.Variable(1.0)\n",
    "\n",
    "def f(x):\n",
    "    y = x**2 + 2*x - 5\n",
    "    return y"
   ]
  },
  {
   "cell_type": "code",
   "execution_count": 17,
   "id": "be400881-4ae5-4559-9135-ca62900db7fb",
   "metadata": {},
   "outputs": [
    {
     "data": {
      "text/plain": [
       "<tf.Tensor: shape=(), dtype=float32, numpy=-2.0>"
      ]
     },
     "execution_count": 17,
     "metadata": {},
     "output_type": "execute_result"
    }
   ],
   "source": [
    "f(x)"
   ]
  },
  {
   "cell_type": "code",
   "execution_count": 18,
   "id": "8a295b18-698c-407e-a639-0add842712c5",
   "metadata": {},
   "outputs": [
    {
     "data": {
      "text/plain": [
       "<tf.Tensor: shape=(), dtype=float32, numpy=4.0>"
      ]
     },
     "execution_count": 18,
     "metadata": {},
     "output_type": "execute_result"
    }
   ],
   "source": [
    "with tf.GradientTape() as tape:\n",
    "    y = f(x) # define the function here for gradient\n",
    "\n",
    "# compute gradient of y(function defined above) at point x\n",
    "g_x = tape.gradient(y,x)\n",
    "g_x"
   ]
  },
  {
   "cell_type": "markdown",
   "id": "b07a87f3-ddc4-4dfa-a346-3084f0352a0f",
   "metadata": {},
   "source": [
    "## 4. Graphs and `tf.function`\n",
    "\n",
    "While you can use TensorFlow interactively like any Python library, TensorFlow also provides tools for:\n",
    "\n",
    "* Performance optimization: to speed up training and inference.\n",
    "* Export: so you can save your model when it's done training.\n",
    "\n",
    "These require that you use `tf.function` to separate your pure-TensorFlow code from Python."
   ]
  },
  {
   "cell_type": "code",
   "execution_count": 19,
   "id": "eea2bd45-e6f6-4131-8d21-e852e19ea691",
   "metadata": {},
   "outputs": [],
   "source": [
    "@tf.function\n",
    "def my_func(x):\n",
    "    print('Tracing.\\n')\n",
    "    return tf.reduce_sum(x)"
   ]
  },
  {
   "cell_type": "markdown",
   "id": "ee6113ba-f845-4402-8909-208290c3e221",
   "metadata": {},
   "source": [
    "The first time you run the `tf.function`, although it executes in Python, it captures a complete, optimized graph representing the TensorFlow computations done within the function."
   ]
  },
  {
   "cell_type": "code",
   "execution_count": 20,
   "id": "93f1db3d-d0c0-4861-91f1-fb4861d16b36",
   "metadata": {},
   "outputs": [
    {
     "name": "stdout",
     "output_type": "stream",
     "text": [
      "Tracing.\n",
      "\n"
     ]
    },
    {
     "data": {
      "text/plain": [
       "<tf.Tensor: shape=(), dtype=int32, numpy=27>"
      ]
     },
     "execution_count": 20,
     "metadata": {},
     "output_type": "execute_result"
    }
   ],
   "source": [
    "x = tf.constant([10,9,8])\n",
    "my_func(x)"
   ]
  },
  {
   "cell_type": "markdown",
   "id": "b40c82f6-e122-4462-a30e-05ff7bf1aba8",
   "metadata": {},
   "source": [
    "Graphs are data structures that contain a set of `tf.Operation` objects, which represent units of computation; and `tf.Tensor` objects, which represent the units of data that flow between operations. They are defined in a `tf.Graph` context. Since these graphs are data structures, they can be saved, run, and restored all without the original Python code. \n",
    "\n",
    "A graph may not be reusable for inputs with a different signature (`shape` and `dtype`), so a new graph is generated instead:"
   ]
  },
  {
   "cell_type": "code",
   "execution_count": 21,
   "id": "6f500ade-7cd4-4949-a680-34710dadc6a7",
   "metadata": {},
   "outputs": [
    {
     "name": "stdout",
     "output_type": "stream",
     "text": [
      "Tracing.\n",
      "\n"
     ]
    },
    {
     "data": {
      "text/plain": [
       "<tf.Tensor: shape=(), dtype=float32, numpy=27.3>"
      ]
     },
     "execution_count": 21,
     "metadata": {},
     "output_type": "execute_result"
    }
   ],
   "source": [
    "x = tf.constant([10.0, 9.1, 8.2], dtype = tf.float32)\n",
    "my_func(x)"
   ]
  },
  {
   "cell_type": "markdown",
   "id": "187d4d8c-d37a-4eac-ae6a-83802c9e1d4c",
   "metadata": {},
   "source": [
    "These captured graphs provide two benefits:\n",
    "\n",
    "* In many cases they provide a significant speedup in execution (though not this trivial example).\n",
    "* You can export these graphs, using `tf.saved_model`, to run on other systems like a server or a mobile device, no Python installation required."
   ]
  },
  {
   "cell_type": "markdown",
   "id": "ed6ee22a-2ee8-441c-a696-fdcfc47df7ea",
   "metadata": {},
   "source": [
    "## 5. Modules, Layers and Models\n",
    "\n",
    "`tf.Module` is a class/named container for managing your `tf.Variable` objects, and the `tf.function` objects that operate on them. The `tf.Module` class is necessary to support two significant features:\n",
    "\n",
    "1. You can save and restore the values of your variables using `tf.train.Checkpoint`. This is useful during training as it is quick to save and restore a model's state.\n",
    "2. You can import and export the `tf.Variable` values and the `tf.function` graphs using `tf.saved_model`. This allows you to run your model independently of the Python program that created it.\n",
    "\n",
    "Here is a complete example exporting a simple `tf.Module` object:"
   ]
  },
  {
   "cell_type": "code",
   "execution_count": 22,
   "id": "1e1ec99a-d3cc-4caf-a850-0ba7d4df439c",
   "metadata": {},
   "outputs": [],
   "source": [
    "#inherit the tf.Module Superclass\n",
    "class MyModule(tf.Module):\n",
    "    def __init__(self,value):\n",
    "        self.weight = tf.Variable(value)\n",
    "    \n",
    "    @tf.function\n",
    "    def multiply(self, x):\n",
    "        return x * self.weight"
   ]
  },
  {
   "cell_type": "code",
   "execution_count": 23,
   "id": "89f96c18-99e9-472b-89b9-41c2e072b8c4",
   "metadata": {},
   "outputs": [
    {
     "data": {
      "text/plain": [
       "<tf.Tensor: shape=(3,), dtype=int32, numpy=array([3, 6, 9])>"
      ]
     },
     "execution_count": 23,
     "metadata": {},
     "output_type": "execute_result"
    }
   ],
   "source": [
    "mod = MyModule(3)\n",
    "mod.multiply(tf.constant([1,2,3]))"
   ]
  },
  {
   "cell_type": "markdown",
   "id": "53b39bf2-c5f2-44c2-b7dc-7e7c0d87ae23",
   "metadata": {},
   "source": [
    "By subclassing `tf.Module` instead of object any `tf.Variable` or `tf.Module` instances assigned to object properties can be collected using the `variables`, `trainable_variables` or `submodules` property."
   ]
  },
  {
   "cell_type": "code",
   "execution_count": 24,
   "id": "e8dfd6ff-8d35-487b-8a9a-61eb536530d4",
   "metadata": {},
   "outputs": [
    {
     "data": {
      "text/plain": [
       "(<tf.Variable 'Variable:0' shape=() dtype=int32, numpy=3>,)"
      ]
     },
     "execution_count": 24,
     "metadata": {},
     "output_type": "execute_result"
    }
   ],
   "source": [
    "mod.variables"
   ]
  },
  {
   "cell_type": "markdown",
   "id": "915dc596-3ca8-454a-908d-e1306be96ebc",
   "metadata": {},
   "source": [
    "Save the `Module`:"
   ]
  },
  {
   "cell_type": "code",
   "execution_count": 25,
   "id": "a0c32196-7f13-49aa-ac9c-2eb1e43ec834",
   "metadata": {},
   "outputs": [
    {
     "name": "stdout",
     "output_type": "stream",
     "text": [
      "INFO:tensorflow:Assets written to: ./saved\\assets\n"
     ]
    }
   ],
   "source": [
    "save_path = './saved'\n",
    "tf.saved_model.save(mod, save_path)"
   ]
  },
  {
   "cell_type": "markdown",
   "id": "d1dee9bc-d941-44bb-b4ac-6b5542694c03",
   "metadata": {},
   "source": [
    "The resulting SavedModel is independent of the code that created it. You can load a SavedModel from Python, other language bindings, or TensorFlow Serving. You can also convert it to run with TensorFlow Lite or TensorFlow JS."
   ]
  },
  {
   "cell_type": "code",
   "execution_count": 26,
   "id": "742f1126-9b1f-4cf7-ab36-925fc3d77669",
   "metadata": {},
   "outputs": [
    {
     "data": {
      "text/plain": [
       "<tf.Tensor: shape=(3,), dtype=int32, numpy=array([3, 6, 9])>"
      ]
     },
     "execution_count": 26,
     "metadata": {},
     "output_type": "execute_result"
    }
   ],
   "source": [
    "reloaded = tf.saved_model.load(save_path)\n",
    "reloaded.multiply([1,2,3])"
   ]
  },
  {
   "cell_type": "markdown",
   "id": "2d5ef277-0898-485e-a82c-4fac5d889116",
   "metadata": {
    "tags": []
   },
   "source": [
    "The `tf.keras.layers.Layer` and `tf.keras.Model` classes build on `tf.Module` providing additional functionality and convenience methods for building, training, and saving models. Some of these are demonstrated in the next section."
   ]
  },
  {
   "cell_type": "markdown",
   "id": "f3040975-4669-4838-8858-5627144db6f5",
   "metadata": {},
   "source": [
    "## 7. Training Loops\n",
    "\n",
    "Now put this all together to build a basic model and train it from scratch.\n",
    "\n",
    "First, create some example data. This generates a cloud of points that loosely follows a quadratic curve:"
   ]
  },
  {
   "cell_type": "code",
   "execution_count": 27,
   "id": "b2ca328c-36a9-4ce7-9141-d1f5642184f6",
   "metadata": {},
   "outputs": [],
   "source": [
    "import matplotlib\n",
    "import matplotlib.pyplot as plt\n",
    "import numpy as np"
   ]
  },
  {
   "cell_type": "code",
   "execution_count": 28,
   "id": "6edfca30-215b-4820-9d77-e8f4ac4feb23",
   "metadata": {},
   "outputs": [],
   "source": [
    "matplotlib.rcParams['figure.figsize'] = [9,6]"
   ]
  },
  {
   "cell_type": "code",
   "execution_count": 29,
   "id": "17e324b0-ea76-491b-8cd8-c5ecc66c37ab",
   "metadata": {},
   "outputs": [
    {
     "data": {
      "text/plain": [
       "array([-2.  , -1.98, -1.96, -1.94, -1.92, -1.9 , -1.88, -1.86, -1.84,\n",
       "       -1.82])"
      ]
     },
     "execution_count": 29,
     "metadata": {},
     "output_type": "execute_result"
    }
   ],
   "source": [
    "x = np.linspace(-2,2,201)\n",
    "x[0:10]"
   ]
  },
  {
   "cell_type": "markdown",
   "id": "0ff1de5c-bdfe-433d-8613-b8fba4d1b9c5",
   "metadata": {},
   "source": [
    "The `tf.cast()` API is used to typecast a tensor object to required type. The operation supports data types (for x and dtype) of `uint8`, `uint16`, `uint32`, `uint64`, `int8`, `int16`, `int32`, `int64`, `float16`, `float32`, `float64`, `complex64`, `complex128`, `bfloat16`. In case of casting from complex types (`complex64`, `complex128`) to real types, only the real part of x is returned. In case of casting from real types to complex types (`complex64`, `complex128`), the imaginary part of the returned value is set to 0. The handling of complex types here matches the behavior of numpy."
   ]
  },
  {
   "cell_type": "code",
   "execution_count": 30,
   "id": "e31f0cb3-43b8-455b-97fd-fde1a4e765ba",
   "metadata": {},
   "outputs": [
    {
     "data": {
      "image/png": "[encoded data removed]",
      "text/plain": [
       "<Figure size 648x432 with 1 Axes>"
      ]
     },
     "metadata": {
      "needs_background": "light"
     },
     "output_type": "display_data"
    }
   ],
   "source": [
    "x = tf.cast(x, dtype = tf.float32)\n",
    "\n",
    "def f(x):\n",
    "    y = x**2 + 2*x - 5\n",
    "    return y\n",
    "# adding noise\n",
    "y = f(x) + tf.random.normal(shape=[201])\n",
    "\n",
    "plt.plot(x.numpy(), y.numpy(), '.', label = 'Data')\n",
    "plt.plot(x, f(x), label = 'Ground Truth')\n",
    "plt.legend();"
   ]
  },
  {
   "cell_type": "markdown",
   "id": "4769a913-ef2b-4cc3-bd68-4a5ceda59606",
   "metadata": {},
   "source": [
    " Create a quadratic model with randomly initialized weights and a bias:\n",
    " "
   ]
  },
  {
   "cell_type": "code",
   "execution_count": 31,
   "id": "bcd6fa97-d391-47bb-b99f-974166d1ba93",
   "metadata": {},
   "outputs": [],
   "source": [
    "class Model(tf.Module):\n",
    "    \n",
    "    def __init__(self):\n",
    "        #randomly initialize weights and biases\n",
    "        rand_init = tf.random.uniform(shape = [3], minval = 0, \n",
    "                                      maxval = 5., seed = 22)\n",
    "        #initialize parameters\n",
    "        self.w_q = tf.Variable(rand_init[0])\n",
    "        self.w_l = tf.Variable(rand_init[1])\n",
    "        self.b = tf.Variable(rand_init[2])\n",
    "    \n",
    "    @tf.function\n",
    "    def __call__(self, x):\n",
    "        #  y  =    a    *  x**2  +     b    * x +   c     \n",
    "        return self.w_q * (x**2) + self.w_l * x + self.b"
   ]
  },
  {
   "cell_type": "markdown",
   "id": "b919b071-b5c2-4100-8720-1ed292ca1c27",
   "metadata": {},
   "source": [
    "Watch performance before training:"
   ]
  },
  {
   "cell_type": "code",
   "execution_count": 32,
   "id": "6aca3f9a-17b0-42fc-8ada-6af719447e91",
   "metadata": {},
   "outputs": [],
   "source": [
    "quad_model = Model()"
   ]
  },
  {
   "cell_type": "code",
   "execution_count": 33,
   "id": "42d99daa-e66c-446d-b4f2-e2476bb0a7ad",
   "metadata": {},
   "outputs": [],
   "source": [
    "def plot_preds(x, y, f, model, title):\n",
    "    plt.figure()\n",
    "    plt.plot(x, y, '.', label = 'Data')\n",
    "    plt.plot(x, f(x), label = 'Ground Truth')\n",
    "    plt.plot(x, model(x), label = 'Predictions')\n",
    "    plt.title(title)\n",
    "    plt.legend()"
   ]
  },
  {
   "cell_type": "code",
   "execution_count": 34,
   "id": "ddf00318-bff9-4857-ba6b-77d108d717d2",
   "metadata": {},
   "outputs": [
    {
     "data": {
      "image/png": "[encoded data removed]",
      "text/plain": [
       "<Figure size 648x432 with 1 Axes>"
      ]
     },
     "metadata": {
      "needs_background": "light"
     },
     "output_type": "display_data"
    }
   ],
   "source": [
    "plot_preds(x, y, f, quad_model, 'before Training')"
   ]
  },
  {
   "cell_type": "markdown",
   "id": "65b5d021-0736-491d-bc94-90e97d209250",
   "metadata": {},
   "source": [
    "Defining loss for model\n",
    "\n",
    "\n",
    "$$\n",
    "\\large M.S.E = \\frac{1}{m} \\sum_{i=1}^{m}{(\\hat{y_i} - y_i)}^2\n",
    "$$"
   ]
  },
  {
   "cell_type": "code",
   "execution_count": 35,
   "id": "2f4d6683-b13f-4a66-aa5d-8881330f364a",
   "metadata": {},
   "outputs": [],
   "source": [
    "def mse_loss(y_pred,y):\n",
    "    return tf.reduce_sum(tf.square(y_pred - y))"
   ]
  },
  {
   "cell_type": "markdown",
   "id": "c64aecb4-7e1a-4c95-9787-bc304a888354",
   "metadata": {},
   "source": [
    "Write a basic training loop for the model. The loop will make use of the MSE loss function and its gradients with respect to the input in order to iteratively update the model's parameters. Using mini-batches for training provides both memory efficiency and faster convergence. The `tf.data.Dataset` API has useful functions for batching and shuffling.\n",
    "\n",
    "`Dataset` usage follows a common pattern:\n",
    "\n",
    "1. Create a source dataset from your input data.\n",
    "2. Apply dataset transformations to preprocess the data.\n",
    "3. Iterate over the dataset and process the elements.\n",
    "\n",
    "Iteration happens in a streaming fashion, so the full dataset does not need to fit into memory."
   ]
  },
  {
   "cell_type": "code",
   "execution_count": 36,
   "id": "b5d0dea6-1930-4d95-a02b-2def05305a37",
   "metadata": {},
   "outputs": [],
   "source": [
    "batch_size = 32\n",
    "dataset = tf.data.Dataset.from_tensor_slices((x,y))"
   ]
  },
  {
   "cell_type": "markdown",
   "id": "76d1fd9f-9674-4055-ab3f-5f185464660b",
   "metadata": {},
   "source": [
    "$$\n",
    "Gradient \\ Descent \\\\\n",
    "Repeat\\ until\\ convergence:\\ \\\\ \n",
    "\\large \\theta_j = \\theta_j - \\alpha\\cdot\\frac{\\partial J(\\theta_0, \\theta_1)}{\\partial \\theta_j}\n",
    "$$"
   ]
  },
  {
   "cell_type": "code",
   "execution_count": 37,
   "id": "3f0e4bd6-1a6c-4179-b291-e89116600cb9",
   "metadata": {},
   "outputs": [
    {
     "name": "stdout",
     "output_type": "stream",
     "text": [
      "MSE for step 0:11064.652\n",
      "MSE for step 10:184.014\n",
      "MSE for step 20:184.184\n",
      "MSE for step 30:184.184\n",
      "MSE for step 40:184.184\n",
      "MSE for step 50:184.184\n",
      "MSE for step 60:184.184\n",
      "MSE for step 70:184.184\n",
      "MSE for step 80:184.184\n",
      "MSE for step 90:184.184\n",
      "\n",
      "\n"
     ]
    },
    {
     "data": {
      "text/plain": [
       "Text(0.5, 1.0, 'MSE loss vs Training Epochs')"
      ]
     },
     "execution_count": 37,
     "metadata": {},
     "output_type": "execute_result"
    },
    {
     "data": {
      "image/png": "[encoded data removed]",
      "text/plain": [
       "<Figure size 648x432 with 1 Axes>"
      ]
     },
     "metadata": {
      "needs_background": "light"
     },
     "output_type": "display_data"
    }
   ],
   "source": [
    "# set parameters for training\n",
    "epochs = 100\n",
    "learning_rate = 0.01\n",
    "losses = []\n",
    "\n",
    "#training loop\n",
    "for epoch in range(epochs):\n",
    "    for x_batch, y_batch in dataset:\n",
    "        with tf.GradientTape() as tape:\n",
    "            #defining the loss function for differentiation\n",
    "            batch_loss = mse_loss(quad_model(x_batch), y_batch)\n",
    "        \n",
    "        #parameters update\n",
    "        grads = tape.gradient(batch_loss, quad_model.variables)\n",
    "        for g,v in zip(grads, quad_model.variables):\n",
    "            #Update v by subtracting learning_rate*grad from it.\n",
    "            v.assign_sub(learning_rate*g)\n",
    "        \n",
    "    #keep track of loss/epoch\n",
    "    loss = mse_loss(quad_model(x),y)\n",
    "    losses.append(loss)\n",
    "    if(epoch%10==0):\n",
    "        print(f'MSE for step {epoch}:{loss.numpy():0.3f}')\n",
    "\n",
    "#result plotting\n",
    "print(\"\\n\")\n",
    "plt.plot(range(epochs), losses)\n",
    "plt.xlabel(\"Epoch\")\n",
    "plt.ylabel(\"MSE\")\n",
    "plt.title(\"MSE loss vs Training Epochs\")"
   ]
  },
  {
   "cell_type": "markdown",
   "id": "0e48a23a-72c1-40f0-aae1-4792ca5a0498",
   "metadata": {},
   "source": [
    "Now plot the predictions after training"
   ]
  },
  {
   "cell_type": "code",
   "execution_count": 38,
   "id": "4e2e7610-f670-4ea4-bdf0-fa1d6e5a5bba",
   "metadata": {},
   "outputs": [
    {
     "data": {
      "image/png": "[encoded data removed]",
      "text/plain": [
       "<Figure size 648x432 with 1 Axes>"
      ]
     },
     "metadata": {
      "needs_background": "light"
     },
     "output_type": "display_data"
    }
   ],
   "source": [
    "plot_preds(x,y,f,quad_model, 'After Training')"
   ]
  },
  {
   "cell_type": "markdown",
   "id": "58387b50-8740-402d-89a5-40d54ff29db8",
   "metadata": {},
   "source": [
    "That's working, but remember that implementations of common training utilities are available in the `tf.keras` module. So, consider using those before writing your own. To start with, the `Model.compile` and `Model.fit` methods implement a training loop for you:\n",
    "\n",
    "Begin by creating a Sequential Model in Keras using `tf.keras.Sequential`. One of the simplest Keras layers is the dense layer, which can be instantiated with `tf.keras.layers.Dense`. The dense layer is able to learn multidimensional linear relationships of the form $Y = WX + \\vec{b}$. In order to learn non linear equation of the form $w_1x^2 + w_2x + b$, the dense layer's input should be a data matrix with x^2 and x as features. The lambda layer, `tf.keras.layers.Lambda` can be used to perform this stacking operation"
   ]
  },
  {
   "cell_type": "code",
   "execution_count": 39,
   "id": "227b8b46-0d1e-4104-a35a-f18d79c7bd02",
   "metadata": {},
   "outputs": [],
   "source": [
    "new_model = tf.keras.Sequential([\n",
    "    tf.keras.layers.Lambda(lambda x: tf.stack([x,x**2], axis = 1)),\n",
    "    tf.keras.layers.Dense(units=1, kernel_initializer=tf.random.normal)])"
   ]
  },
  {
   "cell_type": "code",
   "execution_count": 40,
   "id": "df99afd8-51e0-425c-aaee-dc39113a3602",
   "metadata": {},
   "outputs": [
    {
     "name": "stdout",
     "output_type": "stream",
     "text": [
      "INFO:tensorflow:Assets written to: ./my_new_model\\assets\n"
     ]
    }
   ],
   "source": [
    "new_model.compile(\n",
    "    loss=tf.keras.losses.MSE,\n",
    "    optimizer = tf.keras.optimizers.SGD(learning_rate = 0.01))\n",
    "\n",
    "history = new_model.fit(x,y,epochs = 100, batch_size = 32, verbose = 0)\n",
    "new_model.save('./my_new_model')"
   ]
  },
  {
   "cell_type": "markdown",
   "id": "846481a6-d2a3-487a-aa06-e8c19e8f526d",
   "metadata": {},
   "source": [
    "Observe your Keras model's performance after training:"
   ]
  },
  {
   "cell_type": "code",
   "execution_count": 41,
   "id": "72d805f5-8c01-4f0f-b735-789902d69d0d",
   "metadata": {},
   "outputs": [
    {
     "data": {
      "image/png": "[encoded data removed]",
      "text/plain": [
       "<Figure size 648x432 with 1 Axes>"
      ]
     },
     "metadata": {
      "needs_background": "light"
     },
     "output_type": "display_data"
    }
   ],
   "source": [
    "plt.plot(history.history['loss'])\n",
    "plt.xlabel('Epoch')\n",
    "plt.ylim([0, max(plt.ylim())])\n",
    "plt.ylabel('Loss [Mean Squared Error]')\n",
    "plt.title('Keras training progress');"
   ]
  },
  {
   "cell_type": "code",
   "execution_count": 42,
   "id": "7feb43fe-ecae-4d15-b67f-b0ea3b4f1de9",
   "metadata": {},
   "outputs": [
    {
     "data": {
      "image/png": "[encoded data removed]",
      "text/plain": [
       "<Figure size 648x432 with 1 Axes>"
      ]
     },
     "metadata": {
      "needs_background": "light"
     },
     "output_type": "display_data"
    }
   ],
   "source": [
    "plot_preds(x, y, f, new_model, 'After Training: Keras')"
   ]
  }
 ],
 "metadata": {
  "kernelspec": {
   "display_name": "Python 3 (ipykernel)",
   "language": "python",
   "name": "python3"
  },
  "language_info": {
   "codemirror_mode": {
    "name": "ipython",
    "version": 3
   },
   "file_extension": ".py",
   "mimetype": "text/x-python",
   "name": "python",
   "nbconvert_exporter": "python",
   "pygments_lexer": "ipython3",
   "version": "3.9.7"
  }
 },
 "nbformat": 4,
 "nbformat_minor": 5
}
