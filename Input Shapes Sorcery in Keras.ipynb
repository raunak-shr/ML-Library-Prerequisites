{
 "cells": [
  {
   "cell_type": "code",
   "execution_count": 1,
   "id": "389e5cdf-53b4-4e12-a293-49bebe18561a",
   "metadata": {},
   "outputs": [],
   "source": [
    "import tensorflow as tf\n",
    "from tensorflow import keras\n",
    "from tensorflow.keras import layers"
   ]
  },
  {
   "cell_type": "markdown",
   "id": "ab78cb34-05e9-40a1-b1b1-ae282ed05a44",
   "metadata": {
    "tags": []
   },
   "source": [
    "---\n",
    "Seperate `.Reshape` Layer\n",
    "---\n",
    "\n",
    "The `tf.keras.layers.Reshape` method reshapes input layer into the given shape. Suppose for the MNIST Database that has `X_train.shape = (m, 784)`, we take the images pixel values. The first (Reshape) layer is called an input layer and takes care of converting the input data for the layers below. Our images are (28,28) = 784 pixels. We’re just converting the 2D 28x28 array to a 1D 784 array (shape of a single training example)"
   ]
  },
  {
   "cell_type": "markdown",
   "id": "1557605d-c563-47ea-98fb-7909baaa8c05",
   "metadata": {},
   "source": [
    "<blockquote>Note: Originally, the mnist database contains 60,000 examples, we've taken 6000 for convenience"
   ]
  },
  {
   "cell_type": "code",
   "execution_count": 2,
   "id": "2cca4a74-b40e-417c-b12c-d4fa2f1556de",
   "metadata": {},
   "outputs": [],
   "source": [
    "m = 6000\n",
    "model_mnist = keras.Sequential(\n",
    "    [\n",
    "        layers.Reshape(target_shape =  (784, ), input_shape = (28,28), name = \"layer1\"),\n",
    "        layers.Dense(units = 20, activation = \"relu\", name = \"layer2\"),\n",
    "        layers.Dense(units = 15, activation = \"relu\", name = \"layer3\"),\n",
    "        layers.Dense(units = 10, activation = \"softmax\", name = \"layer4\")\n",
    "    ]\n",
    ")"
   ]
  },
  {
   "cell_type": "markdown",
   "id": "04d07f40-64c6-4a82-9958-ce4d1009ffa4",
   "metadata": {},
   "source": [
    "All other layers are Dense (interconnected). You might notice the parameter `units`, it sets the number of neurons for each layer. \n",
    "\n",
    "The last (output) layer is a special one. It has 10 neurons because we have 10 different types of digits in our data. You get the predictions of the model from this layer."
   ]
  },
  {
   "cell_type": "code",
   "execution_count": 3,
   "id": "812758a1-3409-4ead-8e7a-6aa9d7bb959d",
   "metadata": {},
   "outputs": [
    {
     "data": {
      "text/plain": [
       "[]"
      ]
     },
     "execution_count": 3,
     "metadata": {},
     "output_type": "execute_result"
    }
   ],
   "source": [
    "model_mnist.layers[0].weights"
   ]
  },
  {
   "cell_type": "markdown",
   "id": "ed34d459-22a0-44fc-be9d-dc6afd7908c4",
   "metadata": {},
   "source": [
    "Reasonable since input layer has no weights for input (we dont modify the inputs, only normalize via dividing with 255)"
   ]
  },
  {
   "cell_type": "code",
   "execution_count": 4,
   "id": "8e7ee77c-4342-446b-8c09-e117d98b1752",
   "metadata": {},
   "outputs": [],
   "source": [
    "import numpy as np"
   ]
  },
  {
   "cell_type": "code",
   "execution_count": 5,
   "id": "90147b43-9674-4144-9f35-af5e4349c176",
   "metadata": {},
   "outputs": [],
   "source": [
    "X = np.random.rand(m,28,28)"
   ]
  },
  {
   "cell_type": "code",
   "execution_count": 6,
   "id": "8d846b75-8816-4d6e-b30c-ba46207a717f",
   "metadata": {},
   "outputs": [],
   "source": [
    "y = model_mnist(X)"
   ]
  },
  {
   "cell_type": "markdown",
   "id": "b6cc9d8c-b2f6-40d2-aa2c-0c892e5f31fe",
   "metadata": {},
   "source": [
    "Let's see the weight matrix of layer 2"
   ]
  },
  {
   "cell_type": "code",
   "execution_count": 7,
   "id": "73077d69-9bf2-4bb0-999c-7e4fb8ef5aa3",
   "metadata": {},
   "outputs": [
    {
     "data": {
      "text/plain": [
       "<tf.Variable 'layer2/kernel:0' shape=(784, 20) dtype=float32, numpy=\n",
       "array([[ 0.06341705, -0.00515229,  0.05339459, ..., -0.07548207,\n",
       "         0.04109949, -0.08259559],\n",
       "       [ 0.02626079, -0.08455778, -0.00049573, ...,  0.02106384,\n",
       "        -0.01787308, -0.07395803],\n",
       "       [-0.07881464, -0.05320477, -0.02720047, ..., -0.05149955,\n",
       "         0.02208954,  0.00111201],\n",
       "       ...,\n",
       "       [-0.02048101,  0.03883322, -0.02884215, ..., -0.02147762,\n",
       "         0.04683614, -0.02072953],\n",
       "       [-0.02436427, -0.02305762,  0.04502301, ..., -0.05181403,\n",
       "         0.04863092,  0.01638307],\n",
       "       [ 0.04234535, -0.06593636,  0.05577298, ...,  0.01808231,\n",
       "         0.05588435, -0.0305473 ]], dtype=float32)>"
      ]
     },
     "execution_count": 7,
     "metadata": {},
     "output_type": "execute_result"
    }
   ],
   "source": [
    "model_mnist.layers[1].weights[0]"
   ]
  },
  {
   "cell_type": "code",
   "execution_count": 8,
   "id": "fb525921-ac41-4e1e-98ae-34b9d3e4b692",
   "metadata": {},
   "outputs": [
    {
     "name": "stdout",
     "output_type": "stream",
     "text": [
      "Model: \"sequential\"\n",
      "_________________________________________________________________\n",
      " Layer (type)                Output Shape              Param #   \n",
      "=================================================================\n",
      " layer1 (Reshape)            (None, 784)               0         \n",
      "                                                                 \n",
      " layer2 (Dense)              (None, 20)                15700     \n",
      "                                                                 \n",
      " layer3 (Dense)              (None, 15)                315       \n",
      "                                                                 \n",
      " layer4 (Dense)              (None, 10)                160       \n",
      "                                                                 \n",
      "=================================================================\n",
      "Total params: 16,175\n",
      "Trainable params: 16,175\n",
      "Non-trainable params: 0\n",
      "_________________________________________________________________\n"
     ]
    }
   ],
   "source": [
    "model_mnist.summary()"
   ]
  },
  {
   "cell_type": "markdown",
   "id": "914c7200-86a3-4b20-95ae-15e3e8384eec",
   "metadata": {},
   "source": [
    "The `.weights` attribute returns a list of (weights, biases) thus indexing to 0 returns the weights and indexing to 1 returns the bias"
   ]
  },
  {
   "cell_type": "code",
   "execution_count": 9,
   "id": "e28ecb82-d2ea-472b-b612-cb409c5a1732",
   "metadata": {},
   "outputs": [
    {
     "data": {
      "text/plain": [
       "<tf.Variable 'layer2/bias:0' shape=(20,) dtype=float32, numpy=\n",
       "array([0., 0., 0., 0., 0., 0., 0., 0., 0., 0., 0., 0., 0., 0., 0., 0., 0.,\n",
       "       0., 0., 0.], dtype=float32)>"
      ]
     },
     "execution_count": 9,
     "metadata": {},
     "output_type": "execute_result"
    }
   ],
   "source": [
    "model_mnist.layers[1].weights[1]"
   ]
  },
  {
   "cell_type": "markdown",
   "id": "28848568-ee5f-4561-9b92-311962c0b01b",
   "metadata": {},
   "source": [
    "No need to worry about the shape since the weight matrix is transposed during $W^T \\cdot X + b$"
   ]
  },
  {
   "cell_type": "markdown",
   "id": "5f775996-a21f-4dec-be4e-630672249073",
   "metadata": {},
   "source": [
    "---\n",
    "`input_shape` & `batch_size` argument (recommended)\n",
    "---\n",
    "Instead of creating a dense layer, pass an `input_shape` ***specifying the batch size of a single training example***\n",
    "\n",
    "In `input_shape`, ***the batch dimension is not included.***\n",
    "\n",
    "If you ever need to specify a fixed batch size for your inputs (this is useful for stateful recurrent networks), you can pass a `batch_size` argument to a layer. If you pass both `batch_size=32` and `input_shape=(6, 8)` to a layer, it will then expect every batch of inputs to have the batch shape (32, 6, 8)."
   ]
  },
  {
   "cell_type": "code",
   "execution_count": 10,
   "id": "fd69bf39-cc33-47bf-b1da-fe57cbdf5928",
   "metadata": {},
   "outputs": [],
   "source": [
    "m = 6000\n",
    "model_mnist = keras.Sequential(\n",
    "    [\n",
    "        layers.Dense(units = 20, activation = \"relu\", input_shape = (784, ), batch_size = m, name = \"layer2\"),\n",
    "        layers.Dense(units = 15, activation = \"relu\", name = \"layer3\"),\n",
    "        layers.Dense(units = 10, activation = \"softmax\", name = \"layer4\")\n",
    "    ]\n",
    ")"
   ]
  },
  {
   "cell_type": "markdown",
   "id": "97261807-bff9-4076-adf2-5730320bf132",
   "metadata": {},
   "source": [
    "When passing the input, ***pass the whole batch as input, with the examples arranged row-wise***"
   ]
  },
  {
   "cell_type": "code",
   "execution_count": 11,
   "id": "3b7316d9-2c23-4193-a67f-2f806b6e1444",
   "metadata": {},
   "outputs": [],
   "source": [
    "x = np.random.rand(m, 784)\n",
    "y = model_mnist(x)"
   ]
  },
  {
   "cell_type": "code",
   "execution_count": 12,
   "id": "74a32d56-c787-47a4-814d-7ab3ba05158c",
   "metadata": {},
   "outputs": [
    {
     "data": {
      "text/plain": [
       "[<keras.layers.core.dense.Dense at 0x1deb99998e0>,\n",
       " <keras.layers.core.dense.Dense at 0x1deb9999850>,\n",
       " <keras.layers.core.dense.Dense at 0x1deb9999e20>]"
      ]
     },
     "execution_count": 12,
     "metadata": {},
     "output_type": "execute_result"
    }
   ],
   "source": [
    "model_mnist.layers"
   ]
  },
  {
   "cell_type": "code",
   "execution_count": 13,
   "id": "93e0b790-442d-45f5-92ca-f9085248af7e",
   "metadata": {},
   "outputs": [
    {
     "data": {
      "text/plain": [
       "[<tf.Variable 'layer2/kernel:0' shape=(784, 20) dtype=float32, numpy=\n",
       " array([[ 0.0665631 ,  0.08623147,  0.00196733, ..., -0.08250167,\n",
       "         -0.01381974, -0.04086908],\n",
       "        [ 0.08275779, -0.08443937, -0.05693385, ..., -0.03143446,\n",
       "         -0.00321385,  0.05273043],\n",
       "        [ 0.02321914, -0.0463839 ,  0.07912473, ..., -0.06857607,\n",
       "          0.01187074, -0.00695767],\n",
       "        ...,\n",
       "        [-0.0231508 , -0.04780063,  0.031583  , ...,  0.06229813,\n",
       "         -0.01030135, -0.0825861 ],\n",
       "        [ 0.04937162, -0.048889  ,  0.02012544, ..., -0.03416599,\n",
       "          0.07288265,  0.04098983],\n",
       "        [ 0.05486134,  0.02025336, -0.01189148, ..., -0.06408609,\n",
       "         -0.06474005, -0.07898491]], dtype=float32)>,\n",
       " <tf.Variable 'layer2/bias:0' shape=(20,) dtype=float32, numpy=\n",
       " array([0., 0., 0., 0., 0., 0., 0., 0., 0., 0., 0., 0., 0., 0., 0., 0., 0.,\n",
       "        0., 0., 0.], dtype=float32)>]"
      ]
     },
     "execution_count": 13,
     "metadata": {},
     "output_type": "execute_result"
    }
   ],
   "source": [
    "model_mnist.layers[0].weights"
   ]
  },
  {
   "cell_type": "code",
   "execution_count": 14,
   "id": "0d0ffb14-1743-4f00-94a2-aadd5656561a",
   "metadata": {},
   "outputs": [
    {
     "name": "stdout",
     "output_type": "stream",
     "text": [
      "Model: \"sequential_1\"\n",
      "_________________________________________________________________\n",
      " Layer (type)                Output Shape              Param #   \n",
      "=================================================================\n",
      " layer2 (Dense)              (6000, 20)                15700     \n",
      "                                                                 \n",
      " layer3 (Dense)              (6000, 15)                315       \n",
      "                                                                 \n",
      " layer4 (Dense)              (6000, 10)                160       \n",
      "                                                                 \n",
      "=================================================================\n",
      "Total params: 16,175\n",
      "Trainable params: 16,175\n",
      "Non-trainable params: 0\n",
      "_________________________________________________________________\n"
     ]
    }
   ],
   "source": [
    "model_mnist.summary()"
   ]
  },
  {
   "cell_type": "markdown",
   "id": "d0bef043-f83f-49f0-8984-61931dc2318e",
   "metadata": {},
   "source": [
    "Observe the difference in the summary output's output shape column of both methods. \n",
    "\n",
    "---\n",
    "Preferred Method\n",
    "---\n",
    "The above method is equivalent to explicitly specifying an `input` (layer 0) with same arguments - `batch_size` and `shape` (same as `input_shape`)"
   ]
  },
  {
   "cell_type": "code",
   "execution_count": 15,
   "id": "aa8534f3-13e0-41af-a6b9-837dac16a3e2",
   "metadata": {},
   "outputs": [],
   "source": [
    "m = 6000\n",
    "model_mnist = keras.Sequential(\n",
    "    [\n",
    "        keras.Input(shape = 784, batch_size = m, name = \"layer0\"),\n",
    "        layers.Dense(units = 20, activation = \"relu\", name = \"layer1\"),\n",
    "        layers.Dense(units = 15, activation = \"relu\", name = \"layer2\"),\n",
    "        layers.Dense(units = 10, activation = \"softmax\", name = \"layer3\")\n",
    "    ]\n",
    ")\n",
    "x = np.random.rand(m, 784)\n",
    "y = model_mnist(x)"
   ]
  },
  {
   "cell_type": "code",
   "execution_count": 16,
   "id": "1834bcd8-baab-4a21-9c98-9502a336178e",
   "metadata": {},
   "outputs": [
    {
     "data": {
      "text/plain": [
       "[<tf.Variable 'layer1/kernel:0' shape=(784, 20) dtype=float32, numpy=\n",
       " array([[-0.02716694,  0.04937129, -0.0426433 , ...,  0.05493189,\n",
       "          0.04167481,  0.03356742],\n",
       "        [-0.05586587,  0.02772526, -0.0515061 , ...,  0.0767339 ,\n",
       "         -0.01936822, -0.00356047],\n",
       "        [-0.05499648,  0.06784353, -0.04141156, ...,  0.00869787,\n",
       "         -0.05308804, -0.03030455],\n",
       "        ...,\n",
       "        [-0.08397981, -0.05376915, -0.06199621, ...,  0.05157672,\n",
       "         -0.05533327,  0.07808746],\n",
       "        [-0.02395387, -0.02428569,  0.03156265, ...,  0.00683144,\n",
       "          0.06160909, -0.00181548],\n",
       "        [ 0.03074189,  0.07069701,  0.01362167, ..., -0.00930146,\n",
       "         -0.06262088, -0.02077889]], dtype=float32)>,\n",
       " <tf.Variable 'layer1/bias:0' shape=(20,) dtype=float32, numpy=\n",
       " array([0., 0., 0., 0., 0., 0., 0., 0., 0., 0., 0., 0., 0., 0., 0., 0., 0.,\n",
       "        0., 0., 0.], dtype=float32)>]"
      ]
     },
     "execution_count": 16,
     "metadata": {},
     "output_type": "execute_result"
    }
   ],
   "source": [
    "model_mnist.layers[0].weights"
   ]
  },
  {
   "cell_type": "code",
   "execution_count": 17,
   "id": "46d16230-dfd2-4882-aed1-aaf2e95e86e1",
   "metadata": {},
   "outputs": [
    {
     "name": "stdout",
     "output_type": "stream",
     "text": [
      "Model: \"sequential_2\"\n",
      "_________________________________________________________________\n",
      " Layer (type)                Output Shape              Param #   \n",
      "=================================================================\n",
      " layer1 (Dense)              (6000, 20)                15700     \n",
      "                                                                 \n",
      " layer2 (Dense)              (6000, 15)                315       \n",
      "                                                                 \n",
      " layer3 (Dense)              (6000, 10)                160       \n",
      "                                                                 \n",
      "=================================================================\n",
      "Total params: 16,175\n",
      "Trainable params: 16,175\n",
      "Non-trainable params: 0\n",
      "_________________________________________________________________\n"
     ]
    }
   ],
   "source": [
    "model_mnist.summary()"
   ]
  }
 ],
 "metadata": {
  "kernelspec": {
   "display_name": "Python 3 (ipykernel)",
   "language": "python",
   "name": "python3"
  },
  "language_info": {
   "codemirror_mode": {
    "name": "ipython",
    "version": 3
   },
   "file_extension": ".py",
   "mimetype": "text/x-python",
   "name": "python",
   "nbconvert_exporter": "python",
   "pygments_lexer": "ipython3",
   "version": "3.9.7"
  }
 },
 "nbformat": 4,
 "nbformat_minor": 5
}
