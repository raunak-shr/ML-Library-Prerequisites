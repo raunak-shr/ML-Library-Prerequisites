{
 "cells": [
  {
   "cell_type": "markdown",
   "id": "f66e5cd3-badf-4347-a544-66c5596e9cec",
   "metadata": {},
   "source": [
    "# $$\\text{The Sequential Model}$$\n",
    "\n",
    "Keras is an open-source software library that provides a Python interface for artificial neural networks. Keras acts as an interface for the TensorFlow library."
   ]
  },
  {
   "cell_type": "code",
   "execution_count": 1,
   "id": "5e8d9a75-9cf7-47b9-a632-3208dcf09825",
   "metadata": {},
   "outputs": [],
   "source": [
    "import tensorflow as tf\n",
    "from tensorflow import keras\n",
    "from tensorflow.keras import layers"
   ]
  },
  {
   "cell_type": "markdown",
   "id": "010168f0-981f-4fcc-b387-120e5a32d163",
   "metadata": {},
   "source": [
    "# 1. When to use a Sequential Model\n",
    " A sequential model is appropriate for a **plain stack of layers** where each layer has **exactly one input tensor and one output tensor.** Schematically, the following `Sequential` model:"
   ]
  },
  {
   "cell_type": "code",
   "execution_count": 2,
   "id": "28263f3f-4b13-4e34-9061-bd57f00b8ebf",
   "metadata": {},
   "outputs": [],
   "source": [
    "model = keras.Sequential(\n",
    "    [\n",
    "        layers.Dense(2, activation = 'relu', name = 'layer1'),\n",
    "        layers.Dense(3, activation = 'relu', name = 'layer2'),\n",
    "        layers.Dense(4, name = 'layer3')\n",
    "    ]\n",
    ")\n",
    "\n",
    "x = tf.ones((3,3))\n",
    "y = model(x)"
   ]
  },
  {
   "cell_type": "code",
   "execution_count": 3,
   "id": "34fc6b13-94f4-4dcf-8595-1cbe9fb19ea8",
   "metadata": {},
   "outputs": [
    {
     "data": {
      "text/plain": [
       "<tf.Tensor: shape=(3, 4), dtype=float32, numpy=\n",
       "array([[0., 0., 0., 0.],\n",
       "       [0., 0., 0., 0.],\n",
       "       [0., 0., 0., 0.]], dtype=float32)>"
      ]
     },
     "execution_count": 3,
     "metadata": {},
     "output_type": "execute_result"
    }
   ],
   "source": [
    "y"
   ]
  },
  {
   "cell_type": "markdown",
   "id": "e0f24e75-abdb-4b3b-810a-ae60d5ae8232",
   "metadata": {},
   "source": [
    "is equivalent to this function"
   ]
  },
  {
   "cell_type": "code",
   "execution_count": 4,
   "id": "39157f86-9b43-4623-a2f7-4de7908f8e1f",
   "metadata": {},
   "outputs": [],
   "source": [
    "# Create 3 layers\n",
    "layer1 = layers.Dense(2, activation=\"relu\", name=\"layer1\")\n",
    "layer2 = layers.Dense(3, activation=\"relu\", name=\"layer2\")\n",
    "layer3 = layers.Dense(4, name=\"layer3\")\n",
    "\n",
    "# Call layers on a test input\n",
    "x = tf.ones((3, 3))\n",
    "y = layer3(layer2(layer1(x)))"
   ]
  },
  {
   "cell_type": "code",
   "execution_count": 5,
   "id": "57a816dd-4ced-4a39-92e6-5aa7c5ce409d",
   "metadata": {},
   "outputs": [
    {
     "data": {
      "text/plain": [
       "<tf.Tensor: shape=(3, 4), dtype=float32, numpy=\n",
       "array([[ 0.04394899,  0.04787931, -0.1282379 , -0.02191474],\n",
       "       [ 0.04394899,  0.04787931, -0.1282379 , -0.02191474],\n",
       "       [ 0.04394899,  0.04787931, -0.1282379 , -0.02191474]],\n",
       "      dtype=float32)>"
      ]
     },
     "execution_count": 5,
     "metadata": {},
     "output_type": "execute_result"
    }
   ],
   "source": [
    "y"
   ]
  },
  {
   "cell_type": "markdown",
   "id": "3eb6ea81-a54d-43c9-abc4-8923a20270bc",
   "metadata": {},
   "source": [
    "A Sequential model is not appropriate when:\n",
    "\n",
    "- Your model has multiple inputs or multiple outputs\n",
    "- Any of your layers has multiple inputs or multiple outputs\n",
    "- You need to do layer sharing\n",
    "- You want non-linear topology (e.g. a residual connection, a multi-branch model)"
   ]
  },
  {
   "cell_type": "markdown",
   "id": "593e31e6-b090-49e6-9f83-fbd57ec32a24",
   "metadata": {},
   "source": [
    "# 2. Creating a Sequential model\n",
    "\n",
    "You can create a sequential model by passing a list of layers to the Sequential constructor:"
   ]
  },
  {
   "cell_type": "code",
   "execution_count": 6,
   "id": "ef12bc79-5aa3-48c4-92dc-8bf175dacda8",
   "metadata": {},
   "outputs": [],
   "source": [
    "model = keras.Sequential(\n",
    "    [\n",
    "        layers.Dense(2, activation=\"relu\"),\n",
    "        layers.Dense(3, activation=\"relu\"),\n",
    "        layers.Dense(4),\n",
    "    ]\n",
    ")"
   ]
  },
  {
   "cell_type": "markdown",
   "id": "80114d3b-d52a-4f4b-91a7-43430ad8e2eb",
   "metadata": {},
   "source": [
    "Layers can be accessed via `layers` attribute:"
   ]
  },
  {
   "cell_type": "code",
   "execution_count": 7,
   "id": "e4456033-2ac3-425c-8236-86d91f420b13",
   "metadata": {},
   "outputs": [
    {
     "data": {
      "text/plain": [
       "[<keras.layers.core.dense.Dense at 0x21db470db80>,\n",
       " <keras.layers.core.dense.Dense at 0x21db470d160>,\n",
       " <keras.layers.core.dense.Dense at 0x21db470d370>]"
      ]
     },
     "execution_count": 7,
     "metadata": {},
     "output_type": "execute_result"
    }
   ],
   "source": [
    "model.layers"
   ]
  },
  {
   "cell_type": "markdown",
   "id": "6be08d0b-4d49-4ff3-8d99-071d71fc52da",
   "metadata": {},
   "source": [
    "You can also create a Sequential model incrementally via the `add()` method. Also note that the Sequential constructor accepts a `name` argument, just like any layer or model in Keras :"
   ]
  },
  {
   "cell_type": "code",
   "execution_count": 8,
   "id": "8dc403a9-9f7c-44dc-88a0-d35be87d4536",
   "metadata": {},
   "outputs": [],
   "source": [
    "model = keras.Sequential(name = \"my_sequential\")\n",
    "model.add(layers.Dense(2, activation=\"relu\"))\n",
    "model.add(layers.Dense(3, activation=\"relu\"))\n",
    "model.add(layers.Dense(4))"
   ]
  },
  {
   "cell_type": "markdown",
   "id": "ae884a6a-ff89-4753-a4fd-3e650aed67c0",
   "metadata": {},
   "source": [
    "Note that there's also a corresponding `pop()` method to remove layers: a Sequential model very much like a list of layers."
   ]
  },
  {
   "cell_type": "code",
   "execution_count": 9,
   "id": "c76f1f44-49a7-47c0-b724-a13791f826a8",
   "metadata": {},
   "outputs": [
    {
     "name": "stdout",
     "output_type": "stream",
     "text": [
      "2\n"
     ]
    }
   ],
   "source": [
    "model.pop()\n",
    "print(len(model.layers))"
   ]
  },
  {
   "cell_type": "markdown",
   "id": "3119faf9-451b-41d2-bdf2-cdeed7f1e975",
   "metadata": {},
   "source": [
    "# 3. Specifying the input shape in advance\n",
    "\n",
    "Generally, all layers in Keras need to know the shape of their inputs in order to be able to create their weights. So when you create a layer like this, initially, it has no weights:"
   ]
  },
  {
   "cell_type": "code",
   "execution_count": 10,
   "id": "68ad72e5-5190-4cbd-82e7-715b9eed23b7",
   "metadata": {},
   "outputs": [
    {
     "data": {
      "text/plain": [
       "[]"
      ]
     },
     "execution_count": 10,
     "metadata": {},
     "output_type": "execute_result"
    }
   ],
   "source": [
    "layer = layers.Dense(3)\n",
    "layer.weights"
   ]
  },
  {
   "cell_type": "markdown",
   "id": "bfd96e54-107f-4642-8237-beda2d397a4c",
   "metadata": {},
   "source": [
    "It creates its weights the first time it is called on an input, since the shape of the weights depends on the shape of the inputs:"
   ]
  },
  {
   "cell_type": "code",
   "execution_count": 11,
   "id": "33ef9a45-774d-441d-8824-f1d785200eca",
   "metadata": {},
   "outputs": [
    {
     "data": {
      "text/plain": [
       "[<tf.Variable 'dense_6/kernel:0' shape=(4, 3) dtype=float32, numpy=\n",
       " array([[ 0.6092166 ,  0.5091746 , -0.71757865],\n",
       "        [-0.7222787 , -0.5411536 ,  0.16909516],\n",
       "        [ 0.05130666, -0.04509193,  0.25447464],\n",
       "        [-0.53271365, -0.31469423, -0.82948416]], dtype=float32)>,\n",
       " <tf.Variable 'dense_6/bias:0' shape=(3,) dtype=float32, numpy=array([0., 0., 0.], dtype=float32)>]"
      ]
     },
     "execution_count": 11,
     "metadata": {},
     "output_type": "execute_result"
    }
   ],
   "source": [
    "x = tf.ones((1,4))\n",
    "y = layer(x)\n",
    "layer.weights  # Now it has weights, of shape (4, 3) and (3,)"
   ]
  },
  {
   "cell_type": "markdown",
   "id": "f1808398-9bff-42e6-ac79-f15dd188ee5c",
   "metadata": {},
   "source": [
    "Naturally, this also applies to Sequential models. When you instantiate a Sequential model without an input shape, it isn't \"built\": it has no weights (and calling `model.weights` results in an error stating just this). The weights are created when the model first sees some input data:"
   ]
  },
  {
   "cell_type": "code",
   "execution_count": 12,
   "id": "9f006adf-a109-4816-b21a-8f1f1952afe5",
   "metadata": {},
   "outputs": [],
   "source": [
    "model = keras.Sequential(\n",
    "    [\n",
    "        layers.Dense(2, activation=\"relu\"),\n",
    "        layers.Dense(3, activation=\"relu\"),\n",
    "        layers.Dense(4),\n",
    "    ]\n",
    ")\n",
    "\n",
    "x = tf.ones((1, 4))\n",
    "y = model(x)"
   ]
  },
  {
   "cell_type": "markdown",
   "id": "b89fbd2a-a08d-4009-a611-f8ffdbdbf73d",
   "metadata": {},
   "source": [
    "Once a model is \"built\", you can call its `summary()` method to display its contents:"
   ]
  },
  {
   "cell_type": "code",
   "execution_count": 13,
   "id": "8486caba-6d68-470e-8dea-42cddac3aac1",
   "metadata": {},
   "outputs": [
    {
     "name": "stdout",
     "output_type": "stream",
     "text": [
      "Model: \"sequential_2\"\n",
      "_________________________________________________________________\n",
      " Layer (type)                Output Shape              Param #   \n",
      "=================================================================\n",
      " dense_7 (Dense)             (1, 2)                    10        \n",
      "                                                                 \n",
      " dense_8 (Dense)             (1, 3)                    9         \n",
      "                                                                 \n",
      " dense_9 (Dense)             (1, 4)                    16        \n",
      "                                                                 \n",
      "=================================================================\n",
      "Total params: 35\n",
      "Trainable params: 35\n",
      "Non-trainable params: 0\n",
      "_________________________________________________________________\n"
     ]
    }
   ],
   "source": [
    "model.summary()"
   ]
  },
  {
   "cell_type": "markdown",
   "id": "326fcbb9-0588-4101-b279-ae645fe0947d",
   "metadata": {},
   "source": [
    "However, it can be very useful when building a Sequential model incrementally to be able to display the summary of the model so far, including the current output shape. In this case, you should start your model by passing an `Input` object to your model, so that it knows its input shape from the start:"
   ]
  },
  {
   "cell_type": "code",
   "execution_count": 14,
   "id": "d078e4e0-670e-4439-9750-102f3b97f466",
   "metadata": {},
   "outputs": [
    {
     "name": "stdout",
     "output_type": "stream",
     "text": [
      "Model: \"sequential_3\"\n",
      "_________________________________________________________________\n",
      " Layer (type)                Output Shape              Param #   \n",
      "=================================================================\n",
      " dense_10 (Dense)            (None, 2)                 10        \n",
      "                                                                 \n",
      "=================================================================\n",
      "Total params: 10\n",
      "Trainable params: 10\n",
      "Non-trainable params: 0\n",
      "_________________________________________________________________\n"
     ]
    }
   ],
   "source": [
    "model = keras.Sequential(\n",
    "    [\n",
    "        keras.Input(shape = (4, )),\n",
    "        layers.Dense(2, activation = \"relu\")\n",
    "    ]\n",
    ")\n",
    "\n",
    "model.summary()"
   ]
  },
  {
   "cell_type": "markdown",
   "id": "9bd823e4-055c-4a9b-8860-ec39e7253922",
   "metadata": {},
   "source": [
    "#### Note that the `Input` object is not displayed as part of `model.layers`, since it isn't a layer."
   ]
  },
  {
   "cell_type": "code",
   "execution_count": 15,
   "id": "be5bf728-bcb7-4274-abf3-4edc89976c1a",
   "metadata": {},
   "outputs": [
    {
     "data": {
      "text/plain": [
       "[<keras.layers.core.dense.Dense at 0x21da9b5a910>]"
      ]
     },
     "execution_count": 15,
     "metadata": {},
     "output_type": "execute_result"
    }
   ],
   "source": [
    "model.layers"
   ]
  },
  {
   "cell_type": "markdown",
   "id": "8bb93f3a-46d9-4320-8810-78b4136e9a39",
   "metadata": {},
   "source": [
    "A simple alternative is to just pass an input_shape argument to your first layer. Pass an `input_shape` ***specifying the batch size of a single training example***. In `input_shape`, ***the batch dimension is not included.***"
   ]
  },
  {
   "cell_type": "code",
   "execution_count": 16,
   "id": "189a1b86-fc6a-436b-a84b-ebd655d33232",
   "metadata": {},
   "outputs": [
    {
     "name": "stdout",
     "output_type": "stream",
     "text": [
      "Model: \"sequential_4\"\n",
      "_________________________________________________________________\n",
      " Layer (type)                Output Shape              Param #   \n",
      "=================================================================\n",
      " dense_11 (Dense)            (None, 2)                 10        \n",
      "                                                                 \n",
      "=================================================================\n",
      "Total params: 10\n",
      "Trainable params: 10\n",
      "Non-trainable params: 0\n",
      "_________________________________________________________________\n"
     ]
    }
   ],
   "source": [
    "model = keras.Sequential(\n",
    "    [\n",
    "        layers.Dense(2, activation = \"relu\", input_shape = (4, ))\n",
    "    ]\n",
    ")\n",
    "\n",
    "model.summary()"
   ]
  },
  {
   "cell_type": "markdown",
   "id": "7036f913-ae40-4c70-91fa-3c25baf07054",
   "metadata": {
    "tags": []
   },
   "source": [
    "Models built with a predefined input shape like this always have weights (even before seeing any data) and always have a defined output shape.\n",
    "\n",
    "__*In general, it's a recommended best practice to always specify the input shape of a Sequential model in advance if you know what it is*__."
   ]
  },
  {
   "cell_type": "markdown",
   "id": "99c375f2-0271-49a1-b471-57f09ae55239",
   "metadata": {},
   "source": [
    "# 4. A common debugging workflow: `add()`  + `summary()`\n",
    "\n",
    "When building a new Sequential architecture, it's useful to incrementally stack layers with `add()` and frequently print model summaries. For instance, this enables you to monitor how a stack of `Conv2D` and `MaxPooling2D` layers is downsampling image feature maps:"
   ]
  },
  {
   "cell_type": "code",
   "execution_count": 17,
   "id": "89fdbf5f-ed10-4827-a451-c710a4055240",
   "metadata": {},
   "outputs": [
    {
     "name": "stdout",
     "output_type": "stream",
     "text": [
      "Model: \"sequential_5\"\n",
      "_________________________________________________________________\n",
      " Layer (type)                Output Shape              Param #   \n",
      "=================================================================\n",
      " conv2d (Conv2D)             (None, 123, 123, 32)      2432      \n",
      "                                                                 \n",
      " conv2d_1 (Conv2D)           (None, 121, 121, 32)      9248      \n",
      "                                                                 \n",
      " max_pooling2d (MaxPooling2D  (None, 40, 40, 32)       0         \n",
      " )                                                               \n",
      "                                                                 \n",
      "=================================================================\n",
      "Total params: 11,680\n",
      "Trainable params: 11,680\n",
      "Non-trainable params: 0\n",
      "_________________________________________________________________\n"
     ]
    }
   ],
   "source": [
    "model = keras.Sequential()\n",
    "model.add(keras.Input(shape = (250,250,3)))\n",
    "model.add(layers.Conv2D(32, 5, strides = 2, activation = \"relu\"))\n",
    "model.add(layers.Conv2D(32, 3, activation = \"relu\"))\n",
    "model.add(layers.MaxPooling2D(3))\n",
    "\n",
    "model.summary()"
   ]
  },
  {
   "cell_type": "markdown",
   "id": "ff9caf85-0919-4f77-8210-2a49bdaf828f",
   "metadata": {},
   "source": [
    "The answer was: (40, 40, 32), so we can keep downsampling..."
   ]
  },
  {
   "cell_type": "code",
   "execution_count": 18,
   "id": "0bcadec9-2c8a-4136-a00e-8de95e9f5f59",
   "metadata": {},
   "outputs": [
    {
     "name": "stdout",
     "output_type": "stream",
     "text": [
      "Model: \"sequential_5\"\n",
      "_________________________________________________________________\n",
      " Layer (type)                Output Shape              Param #   \n",
      "=================================================================\n",
      " conv2d (Conv2D)             (None, 123, 123, 32)      2432      \n",
      "                                                                 \n",
      " conv2d_1 (Conv2D)           (None, 121, 121, 32)      9248      \n",
      "                                                                 \n",
      " max_pooling2d (MaxPooling2D  (None, 40, 40, 32)       0         \n",
      " )                                                               \n",
      "                                                                 \n",
      " conv2d_2 (Conv2D)           (None, 38, 38, 32)        9248      \n",
      "                                                                 \n",
      " conv2d_3 (Conv2D)           (None, 36, 36, 32)        9248      \n",
      "                                                                 \n",
      " max_pooling2d_1 (MaxPooling  (None, 12, 12, 32)       0         \n",
      " 2D)                                                             \n",
      "                                                                 \n",
      " conv2d_4 (Conv2D)           (None, 10, 10, 32)        9248      \n",
      "                                                                 \n",
      " conv2d_5 (Conv2D)           (None, 8, 8, 32)          9248      \n",
      "                                                                 \n",
      " max_pooling2d_2 (MaxPooling  (None, 4, 4, 32)         0         \n",
      " 2D)                                                             \n",
      "                                                                 \n",
      "=================================================================\n",
      "Total params: 48,672\n",
      "Trainable params: 48,672\n",
      "Non-trainable params: 0\n",
      "_________________________________________________________________\n"
     ]
    }
   ],
   "source": [
    "model.add(layers.Conv2D(32, 3, activation=\"relu\"))\n",
    "model.add(layers.Conv2D(32, 3, activation=\"relu\"))\n",
    "model.add(layers.MaxPooling2D(3))\n",
    "model.add(layers.Conv2D(32, 3, activation=\"relu\"))\n",
    "model.add(layers.Conv2D(32, 3, activation=\"relu\"))\n",
    "model.add(layers.MaxPooling2D(2))\n",
    "\n",
    "model.summary()"
   ]
  },
  {
   "cell_type": "markdown",
   "id": "6648a92e-30ed-46c1-bbb4-0ee7ee0ac28c",
   "metadata": {},
   "source": [
    "# 5. What to do once you have a model?\n",
    "\n",
    "Once your model architecture is ready, you will want to:\n",
    "\n",
    "- Train your model, evaluate it, and run inference.\n",
    "\n",
    "- Save your model to disk and restore it.\n",
    "\n",
    "- Speed up model training by leveraging multiple GPUs.\n"
   ]
  },
  {
   "cell_type": "markdown",
   "id": "7cdfa949-44f2-4456-8b87-05ea041d70b8",
   "metadata": {},
   "source": [
    "# 6. Feature Extraction with a Sequential Model\n",
    "\n",
    "Once a sequential model is built it behaves like a functional API Model. This means that every layer has an `input` and `output` attribute. These attributes can be used to do neat things, like quickly creating a model that extracys the outputs of all intermediate layers in a Sequential Model."
   ]
  },
  {
   "cell_type": "code",
   "execution_count": 19,
   "id": "e5fafb56-6dd3-443e-9327-b1800598bc13",
   "metadata": {},
   "outputs": [],
   "source": [
    "initial_model = keras.Sequential(\n",
    "    [\n",
    "        keras.Input(shape  =(250,250,3)), #inputting a RGB Channel\n",
    "        layers.Conv2D(32, 5, strides = 2, activation = 'relu'),\n",
    "        layers.Conv2D(32, 3, activation = 'relu'),\n",
    "        layers.Conv2D(32, 3, activation = 'relu')\n",
    "    ]\n",
    ")\n",
    "\n",
    "feature_extractor = keras.Model(\n",
    "    inputs = initial_model.inputs, outputs = [layer.output for layer in initial_model.layers]\n",
    ")\n",
    "\n",
    "x = tf.ones((1,250,250,3))\n",
    "features = feature_extractor(x)"
   ]
  },
  {
   "cell_type": "markdown",
   "id": "cc0dd107-8100-4bc0-a766-1e9bb4c98313",
   "metadata": {},
   "source": [
    "Here's a similar example that only extract features from one layer:"
   ]
  },
  {
   "cell_type": "code",
   "execution_count": 20,
   "id": "b886c7e4-bf46-45e7-9892-3763cf59c568",
   "metadata": {},
   "outputs": [],
   "source": [
    "initial_model = keras.Sequential(\n",
    "    [\n",
    "        keras.Input(shape  =(250,250,3)), #inputting a RGB Channel\n",
    "        layers.Conv2D(32, 5, strides = 2, activation = 'relu'),\n",
    "        layers.Conv2D(32, 3, activation = 'relu', name = 'my_intermediate_layer'),\n",
    "        layers.Conv2D(32, 3, activation = 'relu')\n",
    "    ]\n",
    ")\n",
    "\n",
    "feature_extractor = keras.Model(\n",
    "    inputs = initial_model.inputs, outputs = initial_model.get_layer(name = 'my_intermediate_layer').output\n",
    ")\n",
    "\n",
    "x = tf.ones((1,250,250,3))\n",
    "features = feature_extractor(x)"
   ]
  },
  {
   "cell_type": "markdown",
   "id": "2a9bd2ee-3a8f-489f-b8dd-706dc02108d9",
   "metadata": {},
   "source": [
    "# 7. Transfer Learning with a Sequential Model\n",
    "\n",
    "Transfer learning consists of freezing the bottom layers in a model and only training the top layers.\n",
    "\n",
    "Here are two common transfer learning blueprint involving Sequential models.\n",
    "\n",
    "First, let's say that you have a Sequential model, and you want to freeze all layers except the last one. In this case, you would simply iterate over model.layers and set layer.trainable = False on each layer, except the last one. Like this:"
   ]
  },
  {
   "cell_type": "code",
   "execution_count": 21,
   "id": "5756b0e3-cd55-43d7-8889-4bf076d3907e",
   "metadata": {},
   "outputs": [
    {
     "data": {
      "text/plain": [
       "\"\\nmodel = keras.Sequential([\\n    keras.Input(shape = (784,)),\\n    layers.Dense(32, activation = 'relu'),\\n    layers.Dense(32, activation = 'relu'),\\n    layers.Dense(32, activation = 'relu'),\\n    layers.Dense(10)\\n])\\n\\nmodel.load_weights(...)\\n\\nfor layer in model.layers[:-1]:\\n    layer.trainable = False\\n\\n\\nmodel.compile(...)\\nmodel.fit(...)\\n\""
      ]
     },
     "execution_count": 21,
     "metadata": {},
     "output_type": "execute_result"
    }
   ],
   "source": [
    "\"\"\"\n",
    "model = keras.Sequential([\n",
    "    keras.Input(shape = (784,)),\n",
    "    layers.Dense(32, activation = 'relu'),\n",
    "    layers.Dense(32, activation = 'relu'),\n",
    "    layers.Dense(32, activation = 'relu'),\n",
    "    layers.Dense(10)\n",
    "])\n",
    "\n",
    "model.load_weights(...)\n",
    "\n",
    "for layer in model.layers[:-1]:\n",
    "    layer.trainable = False\n",
    "\n",
    "\n",
    "model.compile(...)\n",
    "model.fit(...)\n",
    "\"\"\""
   ]
  },
  {
   "cell_type": "markdown",
   "id": "bb5db3db-d275-4c19-b581-b3b5abc86594",
   "metadata": {},
   "source": [
    "Another common blueprint is to use a Sequential model to stack a pre-trained model and some freshly initialized classification layers. Like this:"
   ]
  },
  {
   "cell_type": "code",
   "execution_count": 22,
   "id": "6ab08329-a385-4b34-988d-baa40328306b",
   "metadata": {},
   "outputs": [
    {
     "data": {
      "text/plain": [
       "'\"\\n# Load a convolutional base with pre-trained weights\\nbase_model = keras.applications.Xception(\\n    weights=\\'imagenet\\',\\n    include_top=False,\\n    pooling=\\'avg\\')\\n\\n# Freeze the base model\\nbase_model.trainable = False\\n\\n# Use a Sequential model to add a trainable classifier on top\\nmodel = keras.Sequential([\\n    base_model,\\n    layers.Dense(1000),\\n])\\n\\n# Compile & train\\nmodel.compile(...)\\nmodel.fit(...)\\n'"
      ]
     },
     "execution_count": 22,
     "metadata": {},
     "output_type": "execute_result"
    }
   ],
   "source": [
    "\"\"\"\"\n",
    "# Load a convolutional base with pre-trained weights\n",
    "base_model = keras.applications.Xception(\n",
    "    weights='imagenet',\n",
    "    include_top=False,\n",
    "    pooling='avg')\n",
    "\n",
    "# Freeze the base model\n",
    "base_model.trainable = False\n",
    "\n",
    "# Use a Sequential model to add a trainable classifier on top\n",
    "model = keras.Sequential([\n",
    "    base_model,\n",
    "    layers.Dense(1000),\n",
    "])\n",
    "\n",
    "# Compile & train\n",
    "model.compile(...)\n",
    "model.fit(...)\n",
    "\"\"\""
   ]
  },
  {
   "cell_type": "markdown",
   "id": "73153457-6410-4c5a-a1d7-899298831294",
   "metadata": {},
   "source": [
    "If you do transfer learning, you will probably find yourself frequently using these two patterns."
   ]
  }
 ],
 "metadata": {
  "kernelspec": {
   "display_name": "Python 3 (ipykernel)",
   "language": "python",
   "name": "python3"
  },
  "language_info": {
   "codemirror_mode": {
    "name": "ipython",
    "version": 3
   },
   "file_extension": ".py",
   "mimetype": "text/x-python",
   "name": "python",
   "nbconvert_exporter": "python",
   "pygments_lexer": "ipython3",
   "version": "3.9.7"
  }
 },
 "nbformat": 4,
 "nbformat_minor": 5
}
