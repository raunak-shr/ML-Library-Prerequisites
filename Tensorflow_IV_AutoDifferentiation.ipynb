{
 "cells": [
  {
   "cell_type": "markdown",
   "id": "b0efb80a-b16a-4f09-8df0-372852b9b3a6",
   "metadata": {},
   "source": [
    "# <p style=\"text-align:center;\">Tensorflow - IV</p>\n",
    "---\n",
    "*<p style=\"text-align:right;\">Reference: Tensorflow Official Docs</p>*\n"
   ]
  },
  {
   "cell_type": "code",
   "execution_count": 1,
   "id": "22f7f5b4-6a4d-4df6-bae8-e33c84a2f7dd",
   "metadata": {},
   "outputs": [],
   "source": [
    "import tensorflow as tf\n",
    "import numpy as np\n",
    "import matplotlib.pyplot as plt"
   ]
  },
  {
   "cell_type": "markdown",
   "id": "88916862-36e4-473f-99d2-f9692e0f1fbf",
   "metadata": {},
   "source": [
    "# Introduction to Gradients and Automatic Differentiation\n",
    "\n",
    "Automatic differentiation(AD) is useful for implementing machine learning algorithms such as backpropagation for training neural networks.\n",
    "\n",
    ">AD exploits the fact that every computer program, no matter how complicated, executes a sequence of elementary arithmetic operations (addition, subtraction, multiplication, division, etc.) and elementary functions (exp, log, sin, cos, etc.). By applying the chain rule repeatedly to these operations, derivatives of arbitrary order can be computed automatically, accurately to working precision, and using at most a small constant factor more arithmetic operations than the original program.\n",
    "\n",
    "In this guide, you will explore ways to compute gradients with TensorFlow, especially in eager execution. Eager execution provides an imperative interface to TensorFlow. \n",
    "\n",
    "### Eager Execution\n",
    "With eager execution enabled, TensorFlow functions execute operations immediately (as opposed to adding to a graph to be executed later in a `tf.compat.v1.Session`) and return concrete values (as opposed to symbolic references to a node in a computational graph). Eager execution is enabled by default and this API returns True in most of cases. However, this API might return False in some cases.\n",
    "\n",
    "### Graph Execution\n",
    "Since eager execution runs all operations one-by-one in Python, it cannot take advantage of potential acceleration opportunities. Graph execution extracts tensor computations from Python and builds an efficient graph before evaluation. Graphs, or `tf.Graph` objects, are special data structures with `tf.Operation` and `tf.Tensor` objects. While `tf.Operation` objects represent computational units,`tf.Tensor` objects represent data units. Graphs can be saved, run, and restored without original Python code, which provides extra flexibility for cross-platform applications. With a graph, you can take advantage of your model in mobile, embedded, and backend environment where Python is unavailable."
   ]
  },
  {
   "cell_type": "markdown",
   "id": "78fdb7e6-5d31-430d-bd3f-f7466e51d999",
   "metadata": {},
   "source": [
    "## 1. Computing Gradients\n",
    "\n",
    "To differentiate automatically, TensorFlow needs to remember what operations happend in what order during *forwards pass*. Then, during the *backward pass*, TensorFlow traverses this list of operations in reverse order to compute gradients"
   ]
  },
  {
   "cell_type": "markdown",
   "id": "c0d5d451-75fa-4306-9d98-2f3e364cfbad",
   "metadata": {},
   "source": [
    "## 2. Gradient Tapes\n",
    "\n",
    "TensorFlow provides the `tf.GradientTape` API for automatic differentiation; that is, computing the gradient of a computation with respect to some inputs, usually `tf.Variables`. TensorFlow \"records\" relevant operations executed inside the context of a `tf.GradientTape` onto a \"tape\". TensorFlow then uses that tape to compute the gradients of a \"recorded\" computation using reverse mode differentiation.\n",
    "\n",
    "Here is a simple example:"
   ]
  },
  {
   "cell_type": "code",
   "execution_count": 2,
   "id": "babcea1a-f707-4f50-b365-86007dad485e",
   "metadata": {},
   "outputs": [],
   "source": [
    "x = tf.Variable(3.0)\n",
    "\n",
    "with tf.GradientTape() as tape:\n",
    "    y = x**2"
   ]
  },
  {
   "cell_type": "markdown",
   "id": "d69a2cff-006b-4b49-b07c-9d919e433204",
   "metadata": {},
   "source": [
    "Once you've recorded some operations, use `GradientTape.gradient(target, sources)` to calculate the gradient of some target (often a loss) relative to some source (often the model's variables):"
   ]
  },
  {
   "cell_type": "code",
   "execution_count": 3,
   "id": "7308e325-316d-4248-bf66-29904d2ca84d",
   "metadata": {},
   "outputs": [
    {
     "data": {
      "text/plain": [
       "6.0"
      ]
     },
     "execution_count": 3,
     "metadata": {},
     "output_type": "execute_result"
    }
   ],
   "source": [
    "dy_dx = tape.gradient(y,x) #gradient(dy, dx) --> computes (dy/dx) at x\n",
    "dy_dx.numpy()"
   ]
  },
  {
   "cell_type": "markdown",
   "id": "161cc6ba-d217-4b8c-9b36-74fe77ba4295",
   "metadata": {},
   "source": [
    "The above example uses scalars, but `tf.GradientTape` works as easily on any tensor as shown below. By default, the resources held by a GradientTape are released as soon as `GradientTape.gradient()` method is called. To compute multiple gradients over the same computation, create a `persistent` gradient tape. This allows multiple calls to the `gradient()` method as resources are released when the tape object is garbage collected. "
   ]
  },
  {
   "cell_type": "code",
   "execution_count": 4,
   "id": "5c55c6d8-876c-4092-a3ed-dc76053367a8",
   "metadata": {},
   "outputs": [],
   "source": [
    "w = tf.Variable(tf.random.normal((3,2)), name='w')\n",
    "b = tf.Variable(tf.zeros(2, dtype = tf.float32), name = 'b')\n",
    "\n",
    "x = [[1.,2.,3.]]\n",
    "\n",
    "with tf.GradientTape(persistent=True) as tape:\n",
    "    y = x@w + b\n",
    "    loss = tf.reduce_mean(y**2)"
   ]
  },
  {
   "cell_type": "markdown",
   "id": "a417d695-e9fd-4afb-b09c-b0ff7302b815",
   "metadata": {},
   "source": [
    "To get the gradient of `loss` with respect to both variables, you can pass both as sources to the `gradient` method. The tape is flexible about how sources are passed and will accept any nested combination of lists or dictionaries and return the gradient structured the same way (see `tf.nest`). "
   ]
  },
  {
   "cell_type": "code",
   "execution_count": 5,
   "id": "570b6d55-1e71-486f-bae2-63a2dad36826",
   "metadata": {},
   "outputs": [],
   "source": [
    "#derivative of loss w.r.t. 'w' and 'b'\n",
    "[dl_dw,dl_db] = tape.gradient(loss,[w,b])"
   ]
  },
  {
   "cell_type": "markdown",
   "id": "3fd41917-6c0a-473f-b264-6de9ea30d46f",
   "metadata": {},
   "source": [
    "The gradient w.r.t each source has the shape of the source:"
   ]
  },
  {
   "cell_type": "code",
   "execution_count": 6,
   "id": "4588710d-616b-4704-b5cf-b4e19f8dd6a9",
   "metadata": {},
   "outputs": [
    {
     "name": "stdout",
     "output_type": "stream",
     "text": [
      "(3, 2)\n",
      "(3, 2)\n"
     ]
    }
   ],
   "source": [
    "print(w.shape)\n",
    "print(dl_dw.shape)"
   ]
  },
  {
   "cell_type": "markdown",
   "id": "54c2ab66-e7b0-46e6-8d32-7a85a3dd10c0",
   "metadata": {},
   "source": [
    "Here is the gradient calculation again, this time passing a dictionary of variables:"
   ]
  },
  {
   "cell_type": "code",
   "execution_count": 7,
   "id": "c3b4ab12-a6c8-4f27-aae0-3b3afacde036",
   "metadata": {},
   "outputs": [
    {
     "data": {
      "text/plain": [
       "<tf.Tensor: shape=(2,), dtype=float32, numpy=array([-6.2749133 ,  0.24908018], dtype=float32)>"
      ]
     },
     "execution_count": 7,
     "metadata": {},
     "output_type": "execute_result"
    }
   ],
   "source": [
    "my_vars = {'w':w,'b':b}\n",
    "\n",
    "grad = tape.gradient(loss, my_vars)\n",
    "grad['b']"
   ]
  },
  {
   "cell_type": "markdown",
   "id": "23ffbe8a-1343-4628-82fc-26596c801704",
   "metadata": {},
   "source": [
    "## 3. Gradients w.r.t a model\n",
    "It's common to collect `tf.Variables` into a `tf.Module` or one of its subclasses (`layers.Layer`, `keras.Model`) for checkpointing and exporting.\n",
    "\n",
    "In most cases, you will want to calculate gradients with respect to a model's trainable variables. Since all subclasses of `tf.Module` aggregate their variables in the `Module.trainable_variables` property, you can calculate these gradients in a few lines of code:"
   ]
  },
  {
   "cell_type": "code",
   "execution_count": 8,
   "id": "ea0b9742-7cad-486e-aae6-735877bb68a9",
   "metadata": {},
   "outputs": [],
   "source": [
    "layer = tf.keras.layers.Dense(2,activation = 'relu')\n",
    "x = tf.constant([[1.,2.,3.]])\n",
    "\n",
    "with tf.GradientTape() as tape:\n",
    "    y = layer(x)\n",
    "    loss = tf.reduce_mean(y**2)\n",
    "    \n",
    "grad = tape.gradient(loss, layer.trainable_variables)"
   ]
  },
  {
   "cell_type": "code",
   "execution_count": 9,
   "id": "1f333a65-bd0c-4122-b7e6-24801cf156f0",
   "metadata": {},
   "outputs": [
    {
     "name": "stdout",
     "output_type": "stream",
     "text": [
      "dense/kernel:0, shape:(3, 2)\n",
      "dense/bias:0, shape:(2,)\n"
     ]
    }
   ],
   "source": [
    "for var,g in zip(layer.trainable_variables, grad):\n",
    "    print(f'{var.name}, shape:{g.shape}')"
   ]
  },
  {
   "cell_type": "markdown",
   "id": "ed21af16-5622-4e0a-b508-cc38ea88d9f7",
   "metadata": {},
   "source": [
    "## 4. Controlling What the Tape Watches\n",
    "\n",
    "The default behavior is to record all operations after accessing a trainable `tf.Variable`. The reasons for this are:\n",
    "\n",
    "* The tape needs to know which operations to record in the forward pass to calculate the gradients in the backwards pass.\n",
    "\n",
    "* The tape holds references to intermediate outputs, so you don't want to record unnecessary operations.\n",
    "\n",
    "* The most common use case involves calculating the gradient of a loss with respect to all a model's trainable variables.\n",
    "\n",
    "For example, the following fails to calculate a gradient because the `tf.Tensor` is not \"watched\" by default, and the `tf.Variable` is not trainable:"
   ]
  },
  {
   "cell_type": "code",
   "execution_count": 10,
   "id": "cd529016-cdfd-433e-9716-c72e4d1c22a5",
   "metadata": {},
   "outputs": [],
   "source": [
    "x0 = tf.Variable(3.0, name = 'x0') #a trainable var\n",
    "x1 = tf.Variable(3.0, name = 'x1', trainable = False) #non-trainable\n",
    "x2 = tf.Variable(2.0, name = 'x2') + 1.0 #var + tensor returns tensor and tensor is not watched by default\n",
    "x3 = tf.constant(3.0, name = 'x3') #not a var"
   ]
  },
  {
   "cell_type": "code",
   "execution_count": 11,
   "id": "e386f511-21d5-4a19-a09d-0893e78729cb",
   "metadata": {},
   "outputs": [],
   "source": [
    "with tf.GradientTape() as tape:\n",
    "    y = (x0**2) + (x1**2) + (x2**2)\n",
    "    \n",
    "grad = tape.gradient(y, [x0,x1,x2,x3])"
   ]
  },
  {
   "cell_type": "code",
   "execution_count": 12,
   "id": "d00ddd57-ba28-42c3-8309-d1f0080ecfe1",
   "metadata": {},
   "outputs": [
    {
     "name": "stdout",
     "output_type": "stream",
     "text": [
      "tf.Tensor(6.0, shape=(), dtype=float32)\n",
      "None\n",
      "None\n",
      "None\n"
     ]
    }
   ],
   "source": [
    "for g in grad:\n",
    "    print(g)"
   ]
  },
  {
   "cell_type": "markdown",
   "id": "1171b411-8107-42ab-b35d-1580d50bb6ae",
   "metadata": {},
   "source": [
    "You can list the variables being watched by the tape using the `GradientTape.watched_variables` method:"
   ]
  },
  {
   "cell_type": "code",
   "execution_count": 13,
   "id": "1c9f0d0d-250f-4563-9af6-58be60ae5d9e",
   "metadata": {},
   "outputs": [
    {
     "data": {
      "text/plain": [
       "['x0:0']"
      ]
     },
     "execution_count": 13,
     "metadata": {},
     "output_type": "execute_result"
    }
   ],
   "source": [
    "[var.name for var in tape.watched_variables()]"
   ]
  },
  {
   "cell_type": "markdown",
   "id": "9833fcba-93dc-4490-954e-d1ad42b7d233",
   "metadata": {},
   "source": [
    "`tf.GradientTape` provides hooks that give the user control over what is or is not watched.\n",
    "\n",
    "To record gradients with respect to a `tf.Tensor`, you need to call `GradientTape.watch(x)`:"
   ]
  },
  {
   "cell_type": "code",
   "execution_count": 14,
   "id": "3de7025e-5a31-4dc4-a5d6-661bad283ccf",
   "metadata": {},
   "outputs": [
    {
     "name": "stdout",
     "output_type": "stream",
     "text": [
      "6.0\n"
     ]
    }
   ],
   "source": [
    "x = tf.constant(3.0)\n",
    "with tf.GradientTape() as tape:\n",
    "    tape.watch(x)\n",
    "    y = x**2\n",
    "\n",
    "dy_dx = tape.gradient(y,x)\n",
    "print(dy_dx.numpy())"
   ]
  },
  {
   "cell_type": "markdown",
   "id": "2c50ea43-4f51-4f3a-801d-f9a762291c5f",
   "metadata": {},
   "source": [
    "## 5. Intermediate Results\n",
    "\n",
    "You can also request gradients of the output with respect to intermediate values computed inside the `tf.GradientTape` context."
   ]
  },
  {
   "cell_type": "code",
   "execution_count": 15,
   "id": "d88ec8b0-c2ef-4e6a-aa3f-1bd79b52c0b7",
   "metadata": {},
   "outputs": [
    {
     "name": "stdout",
     "output_type": "stream",
     "text": [
      "18.0\n"
     ]
    }
   ],
   "source": [
    "x = tf.constant(3.0)\n",
    "\n",
    "with tf.GradientTape() as tape:\n",
    "    tape.watch(x)\n",
    "    y = x*x\n",
    "    z = y*y\n",
    "# Use the tape to compute the gradient of z with respect to the\n",
    "# intermediate value y.\n",
    "# dz_dy = 2 * y and y = x ** 2 = 9\n",
    "print(tape.gradient(z,y).numpy())"
   ]
  },
  {
   "cell_type": "markdown",
   "id": "ff70b47b-8820-490f-a067-1dda3b56987e",
   "metadata": {},
   "source": [
    "By default, the resources held by a `GradientTape` are released as soon as the `GradientTape.gradient` method is called. To compute multiple gradients over the same computation, create a gradient tape with `persistent=True`. This allows multiple calls to the gradient method as resources are released when the tape object is garbage collected. For example:"
   ]
  },
  {
   "cell_type": "code",
   "execution_count": 16,
   "id": "52476953-e00c-42f2-862e-7ffb560c3c08",
   "metadata": {},
   "outputs": [
    {
     "name": "stdout",
     "output_type": "stream",
     "text": [
      "[  4. 108.]\n",
      "[2. 6.]\n"
     ]
    }
   ],
   "source": [
    "x = tf.constant([1,3.0])\n",
    "\n",
    "with tf.GradientTape(persistent=True) as tape:\n",
    "    tape.watch(x)\n",
    "    y = x*x\n",
    "    z = y*y\n",
    "\n",
    "print(tape.gradient(z,x).numpy())\n",
    "print(tape.gradient(y,x).numpy())"
   ]
  },
  {
   "cell_type": "code",
   "execution_count": 17,
   "id": "734e26dc-8a55-4709-9d01-959b1eee15e2",
   "metadata": {},
   "outputs": [],
   "source": [
    "del tape # drop the reference"
   ]
  },
  {
   "cell_type": "markdown",
   "id": "06479580-384f-4717-8ed4-0178bd240a55",
   "metadata": {},
   "source": [
    "## 6. Notes on Performance\n",
    "\n",
    "* There is a tiny overhead associated with doing operations inside a gradient tape context. For most eager execution this will not be a noticeable cost, but you should still use tape context around the areas only where it is required.\n",
    "\n",
    "* Gradient tapes use memory to store intermediate results, including inputs and outputs, for use during the backwards pass.\n",
    "\n",
    "For efficiency, some ops (like ReLU) don't need to keep their intermediate results and they are pruned during the forward pass. However, if you use `persistent=True` on your tape, nothing is discarded and your peak memory usage will be higher."
   ]
  },
  {
   "cell_type": "markdown",
   "id": "cc023e5a-2ca1-4072-b891-9c6d9dec5c98",
   "metadata": {},
   "source": [
    "## 7. Control Flow\n",
    "\n",
    "Because a gradient tape records operations as they are executed, Python control flow is naturally handled (for example, `if` and `while` statements).\n",
    "\n",
    "Here a different variable is used on each branch of an `if`. The gradient only connects to the variable that was used:"
   ]
  },
  {
   "cell_type": "code",
   "execution_count": 18,
   "id": "c8c94159-41ca-4f53-8972-877bd6b12064",
   "metadata": {},
   "outputs": [
    {
     "name": "stdout",
     "output_type": "stream",
     "text": [
      "tf.Tensor(1.0, shape=(), dtype=float32)\n",
      "None\n"
     ]
    }
   ],
   "source": [
    "x = tf.constant(1.0)\n",
    "\n",
    "v0 = tf.Variable(2.0)\n",
    "v1 = tf.Variable(2.0)\n",
    "\n",
    "with tf.GradientTape(persistent=True) as tape:\n",
    "    tape.watch(x)\n",
    "    if x>0.0:\n",
    "        result = v0\n",
    "    else:\n",
    "        result = v1**2\n",
    "\n",
    "dv0,dv1 = tape.gradient(result,[v0,v1])\n",
    "\n",
    "print(dv0)\n",
    "print(dv1)"
   ]
  },
  {
   "cell_type": "markdown",
   "id": "1bed62b2-9542-441e-925c-47d49e049f9c",
   "metadata": {},
   "source": [
    "Just remember that the control statements themselves are not differentiable, so they are invisible to gradient-based optimizers.\n",
    "\n",
    "Depending on the value of `x` in the above example, the tape either records `result = v0` or `result = v1**2`. The gradient with respect to `x` is always `None`."
   ]
  },
  {
   "cell_type": "markdown",
   "id": "5a3a15bb-222a-47c0-a082-54f87dca806b",
   "metadata": {},
   "source": [
    "## 8. Cases when gradient returns None\n",
    "\n",
    "When a target is not connected to a source, `gradient` will return `None`"
   ]
  },
  {
   "cell_type": "code",
   "execution_count": 19,
   "id": "e287b037-ea70-4172-a6c3-cf8023607394",
   "metadata": {},
   "outputs": [
    {
     "name": "stdout",
     "output_type": "stream",
     "text": [
      "None\n"
     ]
    }
   ],
   "source": [
    "x = tf.Variable(2.)\n",
    "y = tf.Variable(3.)\n",
    "\n",
    "with tf.GradientTape() as tape:\n",
    "    z = y * y\n",
    "print(tape.gradient(z,x))"
   ]
  },
  {
   "cell_type": "markdown",
   "id": "23caeb6d-3c21-46cc-adfb-2bef7a71c134",
   "metadata": {},
   "source": [
    "Here `z` is obviously not connected to `x`, but there are several less-obvious ways that a gradient can be disconnected.\n",
    "\n",
    "### 8.1. Replaced a variable with a tensor\n",
    "\n",
    "In the section on \"controlling what the tape watches\" you saw that the tape will automatically watch a `tf.Variable` but not a `tf.Tensor`.\n",
    "\n",
    "One common error is to inadvertently replace a `tf.Variable` with a `tf.Tensor`, instead of using `Variable.assign` to update the `tf.Variable`. Here is an example:"
   ]
  },
  {
   "cell_type": "code",
   "execution_count": 20,
   "id": "cc61b0fd-cfb8-42bd-8be0-8ba5a145a08e",
   "metadata": {},
   "outputs": [
    {
     "name": "stdout",
     "output_type": "stream",
     "text": [
      "ResourceVariable : tf.Tensor(1.0, shape=(), dtype=float32)\n",
      "EagerTensor : None\n"
     ]
    }
   ],
   "source": [
    "x = tf.Variable(2.0)\n",
    "\n",
    "for epoch in range(2):\n",
    "    with tf.GradientTape() as tape:\n",
    "        y = x+1\n",
    "        \n",
    "    print(type(x).__name__, \":\", tape.gradient(y, x))\n",
    "    x = x + 1   # This should be `x.assign_add(1)`"
   ]
  },
  {
   "cell_type": "markdown",
   "id": "e64552eb-65da-460a-b91d-a6a5ead7797f",
   "metadata": {},
   "source": [
    "### 8.2. Did calculations out of Tensorflow\n",
    "\n",
    "The tape can't record the gradient path if the calculation exits TensorFlow. For example:\n"
   ]
  },
  {
   "cell_type": "code",
   "execution_count": 21,
   "id": "953e90eb-ff85-44c7-b8d1-1993d40e132c",
   "metadata": {},
   "outputs": [
    {
     "name": "stdout",
     "output_type": "stream",
     "text": [
      "None\n"
     ]
    }
   ],
   "source": [
    "x = tf.Variable([[1.0,2.0],[3.0,4.0]], dtype = tf.float32)\n",
    "\n",
    "with tf.GradientTape() as tape:\n",
    "    x2 = x**2\n",
    "    y = np.mean(x2, axis = 0) #done in numpy\n",
    "    #like most ops reduce_mean will cast the NumPy array to a constant tensor\n",
    "    #using 'tf.conert_to_tensor'\n",
    "    y = tf.reduce_mean(y, axis = 0)\n",
    "    \n",
    "print(tape.gradient(y,x))"
   ]
  },
  {
   "cell_type": "markdown",
   "id": "3c5439e1-11e6-4b6f-9f4a-dd4917115dee",
   "metadata": {},
   "source": [
    "### 8.3. Took gradients through an integer or string\n",
    "\n",
    "Integers and strings are not differentiable. If a calculation path uses these data types there will be no gradient.\n",
    "\n",
    "Nobody expects strings to be differentiable, but it's easy to accidentally create an `int` constant or variable if you don't specify the `dtype`."
   ]
  },
  {
   "cell_type": "code",
   "execution_count": 22,
   "id": "662a30f4-7fd0-429d-ba32-28cd3940a6d2",
   "metadata": {},
   "outputs": [
    {
     "name": "stdout",
     "output_type": "stream",
     "text": [
      "WARNING:tensorflow:The dtype of the watched tensor must be floating (e.g. tf.float32), got tf.int32\n",
      "WARNING:tensorflow:The dtype of the target tensor must be floating (e.g. tf.float32) when calling GradientTape.gradient, got tf.int32\n",
      "WARNING:tensorflow:The dtype of the source tensor must be floating (e.g. tf.float32) when calling GradientTape.gradient, got tf.int32\n",
      "None\n"
     ]
    }
   ],
   "source": [
    "x = tf.constant(10)\n",
    "\n",
    "with tf.GradientTape() as g:\n",
    "    g.watch(x)\n",
    "    y = x*x\n",
    "    \n",
    "print(g.gradient(y,x))"
   ]
  },
  {
   "cell_type": "markdown",
   "id": "1125c7d1-9500-49a6-ab1f-f7f90d64bb9c",
   "metadata": {},
   "source": [
    "TensorFlow doesn't automatically cast between types, so, in practice, you'll often get a type error instead of a missing gradient.\n",
    "\n",
    "### 8.4. Took gradients through a stateful object\n",
    "\n",
    "State stops gradients. When you read from a stateful object, the tape can only observe the current state, not the history that lead to it.\n",
    "\n",
    "A `tf.Tensor` is immutable. You can't change a tensor once it's created. It has a value, but no state. All the operations discussed so far are also stateless: the output of a `tf.matmul` only depends on its inputs.\n",
    "\n",
    "A `tf.Variable` has internal state—its value. When you use the variable, the state is read. It's normal to calculate a gradient with respect to a variable, but the variable's state blocks gradient calculations from going farther back. For example:"
   ]
  },
  {
   "cell_type": "code",
   "execution_count": 23,
   "id": "b0194e1e-5c09-42f6-a513-3b8b91496c5a",
   "metadata": {},
   "outputs": [
    {
     "name": "stdout",
     "output_type": "stream",
     "text": [
      "None\n"
     ]
    }
   ],
   "source": [
    "x0 = tf.Variable(3.0)\n",
    "x1 = tf.Variable(0.0)\n",
    "\n",
    "with tf.GradientTape() as tape:\n",
    "    # Update x1 = x1 + x0.\n",
    "    x1.assign_add(x0)\n",
    "    # The tape starts recording from x1.\n",
    "    y = x1**2\n",
    "\n",
    "#This doesnt works\n",
    "print(tape.gradient(y,x0))"
   ]
  },
  {
   "cell_type": "markdown",
   "id": "72ddcf22-9f6e-4c04-8859-a4912eaf955a",
   "metadata": {},
   "source": [
    "Similarly, `tf.data.Dataset` iterators and `tf.queues` are stateful, and will stop all gradients on tensors that pass through them.\n",
    "\n",
    "## 9. No gradient registered\n",
    "\n",
    "Some `tf.Operations` are **registered as being non-differentiable** and will return None. Others have **no gradient registered**.\n",
    "\n",
    "The `tf.raw_ops` page shows which low-level ops have gradients registered.\n",
    "\n",
    "If you attempt to take a gradient through a float op that has no gradient registered the tape will throw an error instead of silently returning None. This way you know something has gone wrong.\n",
    "\n",
    "For example, the `tf.image.adjust_contrast` function wraps `raw_ops.AdjustContrastv2`, which could have a gradient but the gradient is not implemented:"
   ]
  },
  {
   "cell_type": "code",
   "execution_count": 24,
   "id": "28946758-aaa4-4bbf-8f7d-e3b04eeb753d",
   "metadata": {},
   "outputs": [
    {
     "name": "stdout",
     "output_type": "stream",
     "text": [
      "LookupError: gradient registry has no entry for: AdjustContrastv2\n"
     ]
    }
   ],
   "source": [
    "image = tf.Variable([[[0.5, 0.0, 0.0]]])\n",
    "delta = tf.Variable(0.1)\n",
    "\n",
    "with tf.GradientTape() as tape:\n",
    "      new_image = tf.image.adjust_contrast(image, delta)\n",
    "\n",
    "try:\n",
    "    print(tape.gradient(new_image, [image, delta]))\n",
    "    assert False   # This should not happen.\n",
    "except LookupError as e:\n",
    "    print(f'{type(e).__name__}: {e}')"
   ]
  },
  {
   "cell_type": "markdown",
   "id": "e493a752-ab26-47be-b83f-3bceadf572d3",
   "metadata": {},
   "source": [
    "If you need to differentiate through this op, you'll either need to implement the gradient and register it (using `tf.RegisterGradient`) or re-implement the function using other ops.\n",
    "\n",
    "## 10. Zeros instead of `None`\n",
    "\n",
    "In some cases it would be convenient to get 0 instead of `None` for unconnected gradients. You can decide what to return when you have unconnected gradients using the `unconnected_gradients` argument:"
   ]
  },
  {
   "cell_type": "code",
   "execution_count": 25,
   "id": "b2b0c42e-5d79-4ba7-b7ee-2dcdca0fb89b",
   "metadata": {},
   "outputs": [
    {
     "name": "stdout",
     "output_type": "stream",
     "text": [
      "tf.Tensor([0. 0.], shape=(2,), dtype=float32)\n"
     ]
    }
   ],
   "source": [
    "x = tf.Variable([2., 2.])\n",
    "y = tf.Variable(3.)\n",
    "\n",
    "with tf.GradientTape() as tape:\n",
    "      z = y**2\n",
    "print(tape.gradient(z, x, unconnected_gradients=tf.UnconnectedGradients.ZERO))"
   ]
  }
 ],
 "metadata": {
  "kernelspec": {
   "display_name": "Python 3 (ipykernel)",
   "language": "python",
   "name": "python3"
  },
  "language_info": {
   "codemirror_mode": {
    "name": "ipython",
    "version": 3
   },
   "file_extension": ".py",
   "mimetype": "text/x-python",
   "name": "python",
   "nbconvert_exporter": "python",
   "pygments_lexer": "ipython3",
   "version": "3.9.7"
  }
 },
 "nbformat": 4,
 "nbformat_minor": 5
}
